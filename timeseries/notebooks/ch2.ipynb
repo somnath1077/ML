{
 "cells": [
  {
   "cell_type": "code",
   "execution_count": 1,
   "metadata": {},
   "outputs": [],
   "source": [
    "FILEPATH <- '../R/beer.R'\n",
    "\n",
    "source(FILEPATH)"
   ]
  },
  {
   "cell_type": "code",
   "execution_count": 2,
   "metadata": {},
   "outputs": [
    {
     "data": {
      "text/plain": [
       "     Jan Feb Mar Apr May Jun Jul Aug Sep Oct Nov Dec\n",
       "1991 164 148 152 144 155 125 153 146 138 190 192 192\n",
       "1992 147 133 163 150 129 131 145 137 138 168 176 188\n",
       "1993 139 143 150 154 137 129 128 140 143 151 177 184\n",
       "1994 151 134 164 126 131 125 127 143 143 160 190 182\n",
       "1995 138 136 152 127 151 130 119 153                "
      ]
     },
     "metadata": {},
     "output_type": "display_data"
    }
   ],
   "source": [
    "beer"
   ]
  }
 ],
 "metadata": {
  "kernelspec": {
   "display_name": "R 3.4",
   "language": "R",
   "name": "ir34"
  },
  "language_info": {
   "codemirror_mode": "r",
   "file_extension": ".r",
   "mimetype": "text/x-r-source",
   "name": "R",
   "pygments_lexer": "r",
   "version": "3.4.4"
  }
 },
 "nbformat": 4,
 "nbformat_minor": 2
}
