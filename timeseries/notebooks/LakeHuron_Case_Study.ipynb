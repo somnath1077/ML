{
 "cells": [
  {
   "cell_type": "markdown",
   "metadata": {},
   "source": [
    "## Data "
   ]
  },
  {
   "cell_type": "code",
   "execution_count": 43,
   "metadata": {},
   "outputs": [],
   "source": [
    "import pandas as pd\n",
    "import numpy as np\n",
    "import matplotlib.pyplot as plt"
   ]
  },
  {
   "cell_type": "code",
   "execution_count": 44,
   "metadata": {},
   "outputs": [
    {
     "data": {
      "text/html": [
       "<div>\n",
       "<style scoped>\n",
       "    .dataframe tbody tr th:only-of-type {\n",
       "        vertical-align: middle;\n",
       "    }\n",
       "\n",
       "    .dataframe tbody tr th {\n",
       "        vertical-align: top;\n",
       "    }\n",
       "\n",
       "    .dataframe thead th {\n",
       "        text-align: right;\n",
       "    }\n",
       "</style>\n",
       "<table border=\"1\" class=\"dataframe\">\n",
       "  <thead>\n",
       "    <tr style=\"text-align: right;\">\n",
       "      <th></th>\n",
       "      <th>Unnamed: 0</th>\n",
       "      <th>time</th>\n",
       "      <th>value</th>\n",
       "    </tr>\n",
       "  </thead>\n",
       "  <tbody>\n",
       "    <tr>\n",
       "      <th>0</th>\n",
       "      <td>1</td>\n",
       "      <td>1875</td>\n",
       "      <td>580.38</td>\n",
       "    </tr>\n",
       "    <tr>\n",
       "      <th>1</th>\n",
       "      <td>2</td>\n",
       "      <td>1876</td>\n",
       "      <td>581.86</td>\n",
       "    </tr>\n",
       "    <tr>\n",
       "      <th>2</th>\n",
       "      <td>3</td>\n",
       "      <td>1877</td>\n",
       "      <td>580.97</td>\n",
       "    </tr>\n",
       "    <tr>\n",
       "      <th>3</th>\n",
       "      <td>4</td>\n",
       "      <td>1878</td>\n",
       "      <td>580.80</td>\n",
       "    </tr>\n",
       "    <tr>\n",
       "      <th>4</th>\n",
       "      <td>5</td>\n",
       "      <td>1879</td>\n",
       "      <td>579.79</td>\n",
       "    </tr>\n",
       "  </tbody>\n",
       "</table>\n",
       "</div>"
      ],
      "text/plain": [
       "   Unnamed: 0  time   value\n",
       "0           1  1875  580.38\n",
       "1           2  1876  581.86\n",
       "2           3  1877  580.97\n",
       "3           4  1878  580.80\n",
       "4           5  1879  579.79"
      ]
     },
     "execution_count": 44,
     "metadata": {},
     "output_type": "execute_result"
    }
   ],
   "source": [
    "HURON_DATA = '../data/CSV/LakeHuron.csv'\n",
    "df_huron = pd.read_csv(HURON_DATA, index_col=False)\n",
    "df_huron.head()"
   ]
  },
  {
   "cell_type": "code",
   "execution_count": 45,
   "metadata": {},
   "outputs": [],
   "source": [
    "df_huron = df_huron[['time', 'value']]\n",
    "df_huron['t'] = df_huron['time'] - 1874\n",
    "df_huron['value'] = df_huron['value'] - 570 # this is done to conform with the textbook"
   ]
  },
  {
   "cell_type": "code",
   "execution_count": 46,
   "metadata": {},
   "outputs": [
    {
     "data": {
      "text/plain": [
       "[<matplotlib.lines.Line2D at 0x7fed9a49e630>]"
      ]
     },
     "execution_count": 46,
     "metadata": {},
     "output_type": "execute_result"
    },
    {
     "data": {
      "image/png": "[encoded data removed]",
      "text/plain": [
       "<Figure size 432x288 with 1 Axes>"
      ]
     },
     "metadata": {},
     "output_type": "display_data"
    }
   ],
   "source": [
    "plt.xlabel('Year')\n",
    "plt.ylabel('Level in feet (reduced by 570)')\n",
    "plt.plot(df_huron.time, df_huron.value)"
   ]
  },
  {
   "cell_type": "markdown",
   "metadata": {},
   "source": [
    "## Initial Model\n",
    "\n",
    "Since the decrease in level seems to be approximately linear, the first model that was fitted was a simple regression model of the following form:\n",
    "\n",
    "$$ Y_t = a_0 + a_1 t + \\varepsilon_t,$$\n",
    "\n",
    "where $\\varepsilon_t$ represents noise; $t$ represents time with $1 \\leq t \\leq 98$."
   ]
  },
  {
   "cell_type": "code",
   "execution_count": 47,
   "metadata": {},
   "outputs": [
    {
     "data": {
      "text/html": [
       "<div>\n",
       "<style scoped>\n",
       "    .dataframe tbody tr th:only-of-type {\n",
       "        vertical-align: middle;\n",
       "    }\n",
       "\n",
       "    .dataframe tbody tr th {\n",
       "        vertical-align: top;\n",
       "    }\n",
       "\n",
       "    .dataframe thead th {\n",
       "        text-align: right;\n",
       "    }\n",
       "</style>\n",
       "<table border=\"1\" class=\"dataframe\">\n",
       "  <thead>\n",
       "    <tr style=\"text-align: right;\">\n",
       "      <th></th>\n",
       "      <th>time</th>\n",
       "      <th>value</th>\n",
       "      <th>t</th>\n",
       "    </tr>\n",
       "  </thead>\n",
       "  <tbody>\n",
       "    <tr>\n",
       "      <th>0</th>\n",
       "      <td>1875</td>\n",
       "      <td>10.38</td>\n",
       "      <td>1</td>\n",
       "    </tr>\n",
       "    <tr>\n",
       "      <th>1</th>\n",
       "      <td>1876</td>\n",
       "      <td>11.86</td>\n",
       "      <td>2</td>\n",
       "    </tr>\n",
       "    <tr>\n",
       "      <th>2</th>\n",
       "      <td>1877</td>\n",
       "      <td>10.97</td>\n",
       "      <td>3</td>\n",
       "    </tr>\n",
       "    <tr>\n",
       "      <th>3</th>\n",
       "      <td>1878</td>\n",
       "      <td>10.80</td>\n",
       "      <td>4</td>\n",
       "    </tr>\n",
       "    <tr>\n",
       "      <th>4</th>\n",
       "      <td>1879</td>\n",
       "      <td>9.79</td>\n",
       "      <td>5</td>\n",
       "    </tr>\n",
       "    <tr>\n",
       "      <th>5</th>\n",
       "      <td>1880</td>\n",
       "      <td>10.39</td>\n",
       "      <td>6</td>\n",
       "    </tr>\n",
       "    <tr>\n",
       "      <th>6</th>\n",
       "      <td>1881</td>\n",
       "      <td>10.42</td>\n",
       "      <td>7</td>\n",
       "    </tr>\n",
       "    <tr>\n",
       "      <th>7</th>\n",
       "      <td>1882</td>\n",
       "      <td>10.82</td>\n",
       "      <td>8</td>\n",
       "    </tr>\n",
       "    <tr>\n",
       "      <th>8</th>\n",
       "      <td>1883</td>\n",
       "      <td>11.40</td>\n",
       "      <td>9</td>\n",
       "    </tr>\n",
       "    <tr>\n",
       "      <th>9</th>\n",
       "      <td>1884</td>\n",
       "      <td>11.32</td>\n",
       "      <td>10</td>\n",
       "    </tr>\n",
       "    <tr>\n",
       "      <th>10</th>\n",
       "      <td>1885</td>\n",
       "      <td>11.44</td>\n",
       "      <td>11</td>\n",
       "    </tr>\n",
       "    <tr>\n",
       "      <th>11</th>\n",
       "      <td>1886</td>\n",
       "      <td>11.68</td>\n",
       "      <td>12</td>\n",
       "    </tr>\n",
       "    <tr>\n",
       "      <th>12</th>\n",
       "      <td>1887</td>\n",
       "      <td>11.17</td>\n",
       "      <td>13</td>\n",
       "    </tr>\n",
       "    <tr>\n",
       "      <th>13</th>\n",
       "      <td>1888</td>\n",
       "      <td>10.53</td>\n",
       "      <td>14</td>\n",
       "    </tr>\n",
       "    <tr>\n",
       "      <th>14</th>\n",
       "      <td>1889</td>\n",
       "      <td>10.01</td>\n",
       "      <td>15</td>\n",
       "    </tr>\n",
       "    <tr>\n",
       "      <th>15</th>\n",
       "      <td>1890</td>\n",
       "      <td>9.91</td>\n",
       "      <td>16</td>\n",
       "    </tr>\n",
       "    <tr>\n",
       "      <th>16</th>\n",
       "      <td>1891</td>\n",
       "      <td>9.14</td>\n",
       "      <td>17</td>\n",
       "    </tr>\n",
       "    <tr>\n",
       "      <th>17</th>\n",
       "      <td>1892</td>\n",
       "      <td>9.16</td>\n",
       "      <td>18</td>\n",
       "    </tr>\n",
       "    <tr>\n",
       "      <th>18</th>\n",
       "      <td>1893</td>\n",
       "      <td>9.55</td>\n",
       "      <td>19</td>\n",
       "    </tr>\n",
       "    <tr>\n",
       "      <th>19</th>\n",
       "      <td>1894</td>\n",
       "      <td>9.67</td>\n",
       "      <td>20</td>\n",
       "    </tr>\n",
       "  </tbody>\n",
       "</table>\n",
       "</div>"
      ],
      "text/plain": [
       "    time  value   t\n",
       "0   1875  10.38   1\n",
       "1   1876  11.86   2\n",
       "2   1877  10.97   3\n",
       "3   1878  10.80   4\n",
       "4   1879   9.79   5\n",
       "5   1880  10.39   6\n",
       "6   1881  10.42   7\n",
       "7   1882  10.82   8\n",
       "8   1883  11.40   9\n",
       "9   1884  11.32  10\n",
       "10  1885  11.44  11\n",
       "11  1886  11.68  12\n",
       "12  1887  11.17  13\n",
       "13  1888  10.53  14\n",
       "14  1889  10.01  15\n",
       "15  1890   9.91  16\n",
       "16  1891   9.14  17\n",
       "17  1892   9.16  18\n",
       "18  1893   9.55  19\n",
       "19  1894   9.67  20"
      ]
     },
     "execution_count": 47,
     "metadata": {},
     "output_type": "execute_result"
    }
   ],
   "source": [
    "df_huron.head(n=20)"
   ]
  },
  {
   "cell_type": "code",
   "execution_count": 48,
   "metadata": {},
   "outputs": [
    {
     "name": "stdout",
     "output_type": "stream",
     "text": [
      "a_0 = 10.202036608457815; a_1 = -0.024201110622318295\n",
      "R2 score = 0.27247275621646183\n"
     ]
    }
   ],
   "source": [
    "from sklearn.linear_model import LinearRegression\n",
    "\n",
    "model = LinearRegression(fit_intercept=True)\n",
    "\n",
    "t = df_huron[['t']]\n",
    "Y = df_huron[['value']]\n",
    "\n",
    "model.fit(t, Y)\n",
    "\n",
    "a_0 = model.intercept_[0]\n",
    "a_1 = model.coef_[0][0]\n",
    "\n",
    "r2 = model.score(t, Y)\n",
    "\n",
    "print('a_0 = {}; a_1 = {}'.format(a_0, a_1))\n",
    "print('R2 score = {}'.format(r2))"
   ]
  },
  {
   "cell_type": "code",
   "execution_count": 61,
   "metadata": {},
   "outputs": [
    {
     "data": {
      "text/plain": [
       "[<matplotlib.lines.Line2D at 0x7fed99f505f8>]"
      ]
     },
     "execution_count": 61,
     "metadata": {},
     "output_type": "execute_result"
    },
    {
     "data": {
      "image/png": "[encoded data removed]",
      "text/plain": [
       "<Figure size 576x360 with 1 Axes>"
      ]
     },
     "metadata": {},
     "output_type": "display_data"
    }
   ],
   "source": [
    "year = np.arange(1, 99, 1)\n",
    "level = [a_0 + y * a_1 for y in year]\n",
    "\n",
    "plt.figure(figsize=(8, 5))\n",
    "plt.xlabel('Year')\n",
    "plt.ylabel('Level in feet (reduced by 570)')\n",
    "plt.title('Level of Lake Huron in Feet (reduced by 570) from 1875-1972')\n",
    "\n",
    "plt.plot(df_huron.time, df_huron.value)\n",
    "plt.plot(df_huron.time, level)"
   ]
  },
  {
   "cell_type": "code",
   "execution_count": 57,
   "metadata": {},
   "outputs": [],
   "source": [
    "df_huron['residuals'] = df_huron['value'] - a_0 - a_1 * df_huron['t']"
   ]
  },
  {
   "cell_type": "code",
   "execution_count": 58,
   "metadata": {},
   "outputs": [
    {
     "data": {
      "text/html": [
       "<div>\n",
       "<style scoped>\n",
       "    .dataframe tbody tr th:only-of-type {\n",
       "        vertical-align: middle;\n",
       "    }\n",
       "\n",
       "    .dataframe tbody tr th {\n",
       "        vertical-align: top;\n",
       "    }\n",
       "\n",
       "    .dataframe thead th {\n",
       "        text-align: right;\n",
       "    }\n",
       "</style>\n",
       "<table border=\"1\" class=\"dataframe\">\n",
       "  <thead>\n",
       "    <tr style=\"text-align: right;\">\n",
       "      <th></th>\n",
       "      <th>time</th>\n",
       "      <th>value</th>\n",
       "      <th>t</th>\n",
       "      <th>residuals</th>\n",
       "    </tr>\n",
       "  </thead>\n",
       "  <tbody>\n",
       "    <tr>\n",
       "      <th>0</th>\n",
       "      <td>1875</td>\n",
       "      <td>10.38</td>\n",
       "      <td>1</td>\n",
       "      <td>0.202165</td>\n",
       "    </tr>\n",
       "    <tr>\n",
       "      <th>1</th>\n",
       "      <td>1876</td>\n",
       "      <td>11.86</td>\n",
       "      <td>2</td>\n",
       "      <td>1.706366</td>\n",
       "    </tr>\n",
       "    <tr>\n",
       "      <th>2</th>\n",
       "      <td>1877</td>\n",
       "      <td>10.97</td>\n",
       "      <td>3</td>\n",
       "      <td>0.840567</td>\n",
       "    </tr>\n",
       "    <tr>\n",
       "      <th>3</th>\n",
       "      <td>1878</td>\n",
       "      <td>10.80</td>\n",
       "      <td>4</td>\n",
       "      <td>0.694768</td>\n",
       "    </tr>\n",
       "    <tr>\n",
       "      <th>4</th>\n",
       "      <td>1879</td>\n",
       "      <td>9.79</td>\n",
       "      <td>5</td>\n",
       "      <td>-0.291031</td>\n",
       "    </tr>\n",
       "  </tbody>\n",
       "</table>\n",
       "</div>"
      ],
      "text/plain": [
       "   time  value  t  residuals\n",
       "0  1875  10.38  1   0.202165\n",
       "1  1876  11.86  2   1.706366\n",
       "2  1877  10.97  3   0.840567\n",
       "3  1878  10.80  4   0.694768\n",
       "4  1879   9.79  5  -0.291031"
      ]
     },
     "execution_count": 58,
     "metadata": {},
     "output_type": "execute_result"
    }
   ],
   "source": [
    "df_huron.head()"
   ]
  },
  {
   "cell_type": "code",
   "execution_count": 62,
   "metadata": {},
   "outputs": [
    {
     "data": {
      "text/plain": [
       "[<matplotlib.lines.Line2D at 0x7fed99f41080>]"
      ]
     },
     "execution_count": 62,
     "metadata": {},
     "output_type": "execute_result"
    },
    {
     "data": {
      "image/png": "[encoded data removed]",
      "text/plain": [
       "<Figure size 576x360 with 1 Axes>"
      ]
     },
     "metadata": {},
     "output_type": "display_data"
    }
   ],
   "source": [
    "plt.figure(figsize=(8, 5))\n",
    "plt.xlabel('Year')\n",
    "plt.ylabel('Residuals')\n",
    "plt.title('Residuals in Linear Regression')\n",
    "\n",
    "plt.plot(df_huron.time, df_huron.residuals)"
   ]
  },
  {
   "cell_type": "markdown",
   "metadata": {},
   "source": [
    "## ACF of Residuals"
   ]
  },
  {
   "cell_type": "code",
   "execution_count": 66,
   "metadata": {},
   "outputs": [],
   "source": [
    "def acf(ts, lag):\n",
    "    n = len(ts)\n",
    "    ts = np.asarray(ts)\n",
    "    \n",
    "    m = np.mean(ts)\n",
    "    \n",
    "    y1 = ts[ : n - lag]\n",
    "    y2 = ts[lag : ]\n",
    "    \n",
    "    cov = np.sum((y1 - m) * (y2 - m)) \n",
    "    var = np.sum((ts - m)**2) \n",
    "    \n",
    "    return cov / float(var)\n",
    "\n",
    "def calculate_acfs(ts, max_lag):\n",
    "    res = [(i, acf(ts, i)) for i in range(0, max_lag + 1)]\n",
    "    return res\n",
    "\n",
    "def plot_acf(ts, max_lag):\n",
    "    points = calculate_acfs(ts, max_lag)\n",
    "    \n",
    "    #settings\n",
    "    plt.figure(figsize=(10, 6.5))\n",
    "    plt.ylim((-1.0, 1.0))\n",
    "    plt.grid()\n",
    "    \n",
    "    # confidence limits\n",
    "    cf = 1.96 / np.sqrt(len(ts))\n",
    "    plt.axhline(y=cf, color='gray')\n",
    "    plt.axhline(y=-cf, color='gray')\n",
    "    plt.axhline(color='black')\n",
    "    \n",
    "    # labels\n",
    "    plt.xlabel('Lags')\n",
    "    plt.ylabel('Autocorrelation')\n",
    "    plt.xticks(range(0, max_lag, 10))\n",
    "    \n",
    "    # actual plot\n",
    "    lags = [l for (l, _) in points]\n",
    "    acfs = [a for (_, a) in points]\n",
    "    plt.stem(lags, acfs)\n",
    "    \n",
    "    plt.show()"
   ]
  },
  {
   "cell_type": "code",
   "execution_count": 67,
   "metadata": {},
   "outputs": [
    {
     "data": {
      "image/png": "[encoded data removed]",
      "text/plain": [
       "<Figure size 720x468 with 1 Axes>"
      ]
     },
     "metadata": {},
     "output_type": "display_data"
    }
   ],
   "source": [
    "plot_acf(df_huron.residuals, max_lag=40)"
   ]
  },
  {
   "cell_type": "markdown",
   "metadata": {},
   "source": [
    "### Interpreting the ACF of residuals plot\n",
    "\n",
    "Had the residuals ${\\varepsilon_1, \\ldots, \\varepsilon_{n}}$ been truly IID $N(0, \\sigma^2)$, the ACFs $\\hat{\\rho}(h)$ for $0 < h < n$ would have been approximately IID $N(0, 1/n)$ (at least for large $n$). This, in turn, means that 95% of the ACF values should have been inside the $\\pm 1.96 / \\sqrt{n}$ lines of the graph above. Since three out of 40 ACF value lie outside, this suggests that the ACFs are probably not IID $N(0, 1/n)$. \n",
    "\n",
    "Also the first few ACF values show a roughly geometric progression and this suggests an AR$(1)$ model for the residuals. Such a model would look like so:\n",
    "$$\n",
    "    \\varepsilon_t = \\phi \\varepsilon_{t - 1} + Z_t,\n",
    "$$\n",
    "\n",
    "where $Z_t$ is IID noise. Of course, it this model were to hold, the points $(\\varepsilon_1, \\varepsilon_2), \\ldots, (\\varepsilon_{n-1}, \\varepsilon_n)$ would lie roughly on a straight line. This is what we check out next."
   ]
  },
  {
   "cell_type": "code",
   "execution_count": 72,
   "metadata": {},
   "outputs": [],
   "source": [
    "residuals = list(df_huron.residuals)\n",
    "\n",
    "residuals_shifted = residuals[1: ]\n",
    "residuals = residuals[ : -1]"
   ]
  },
  {
   "cell_type": "code",
   "execution_count": 76,
   "metadata": {},
   "outputs": [
    {
     "data": {
      "image/png": "[encoded data removed]",
      "text/plain": [
       "<Figure size 432x288 with 1 Axes>"
      ]
     },
     "metadata": {},
     "output_type": "display_data"
    }
   ],
   "source": [
    "plt.scatter(residuals, residuals_shifted)\n",
    "plt.show()"
   ]
  },
  {
   "cell_type": "code",
   "execution_count": 85,
   "metadata": {},
   "outputs": [
    {
     "name": "stdout",
     "output_type": "stream",
     "text": [
      "a_1 = 0.7908423645936997\n"
     ]
    }
   ],
   "source": [
    "model = LinearRegression(fit_intercept=False)\n",
    "\n",
    "model.fit(np.asarray(residuals).reshape(-1, 1), residuals_shifted)\n",
    "\n",
    "a_1 = model.coef_[0]\n",
    "\n",
    "print('a_1 = {}'.format(a_1))"
   ]
  },
  {
   "cell_type": "code",
   "execution_count": 86,
   "metadata": {},
   "outputs": [
    {
     "data": {
      "text/html": [
       "<div>\n",
       "<style scoped>\n",
       "    .dataframe tbody tr th:only-of-type {\n",
       "        vertical-align: middle;\n",
       "    }\n",
       "\n",
       "    .dataframe tbody tr th {\n",
       "        vertical-align: top;\n",
       "    }\n",
       "\n",
       "    .dataframe thead th {\n",
       "        text-align: right;\n",
       "    }\n",
       "</style>\n",
       "<table border=\"1\" class=\"dataframe\">\n",
       "  <thead>\n",
       "    <tr style=\"text-align: right;\">\n",
       "      <th></th>\n",
       "      <th>res</th>\n",
       "      <th>res_shifted_1</th>\n",
       "      <th>estimate</th>\n",
       "    </tr>\n",
       "  </thead>\n",
       "  <tbody>\n",
       "    <tr>\n",
       "      <th>0</th>\n",
       "      <td>0.202165</td>\n",
       "      <td>1.706366</td>\n",
       "      <td>0.159880</td>\n",
       "    </tr>\n",
       "    <tr>\n",
       "      <th>1</th>\n",
       "      <td>1.706366</td>\n",
       "      <td>0.840567</td>\n",
       "      <td>1.349466</td>\n",
       "    </tr>\n",
       "    <tr>\n",
       "      <th>2</th>\n",
       "      <td>0.840567</td>\n",
       "      <td>0.694768</td>\n",
       "      <td>0.664756</td>\n",
       "    </tr>\n",
       "    <tr>\n",
       "      <th>3</th>\n",
       "      <td>0.694768</td>\n",
       "      <td>-0.291031</td>\n",
       "      <td>0.549452</td>\n",
       "    </tr>\n",
       "    <tr>\n",
       "      <th>4</th>\n",
       "      <td>-0.291031</td>\n",
       "      <td>0.333170</td>\n",
       "      <td>-0.230160</td>\n",
       "    </tr>\n",
       "  </tbody>\n",
       "</table>\n",
       "</div>"
      ],
      "text/plain": [
       "        res  res_shifted_1  estimate\n",
       "0  0.202165       1.706366  0.159880\n",
       "1  1.706366       0.840567  1.349466\n",
       "2  0.840567       0.694768  0.664756\n",
       "3  0.694768      -0.291031  0.549452\n",
       "4 -0.291031       0.333170 -0.230160"
      ]
     },
     "execution_count": 86,
     "metadata": {},
     "output_type": "execute_result"
    }
   ],
   "source": [
    "df_residuals = pd.DataFrame(columns=['res', 'res_shifted_1'])\n",
    "\n",
    "df_residuals['res'] = residuals\n",
    "df_residuals['res_shifted_1'] = residuals_shifted\n",
    "df_residuals['estimate'] = a_1 * df_residuals['res']\n",
    "df_residuals.head()"
   ]
  },
  {
   "cell_type": "code",
   "execution_count": 87,
   "metadata": {},
   "outputs": [],
   "source": [
    "df_residuals['residuals_of_residuals'] = df_residuals['res_shifted_1'] - df_residuals['estimate']"
   ]
  },
  {
   "cell_type": "code",
   "execution_count": 88,
   "metadata": {},
   "outputs": [
    {
     "data": {
      "image/png": "[encoded data removed]",
      "text/plain": [
       "<Figure size 720x468 with 1 Axes>"
      ]
     },
     "metadata": {},
     "output_type": "display_data"
    }
   ],
   "source": [
    "plot_acf(df_residuals.residuals_of_residuals, max_lag=40)"
   ]
  },
  {
   "cell_type": "markdown",
   "metadata": {},
   "source": [
    "The sample ACF of the estimated noise sequence is slightly outside the bounds $\\pm 1.96/97$ at lag 1, but it is inside the bounds for all other lags up to 40. This check that the estimated noise sequence is consistent with\n",
    "the iid assumption and reinforces our belief in the fitted model.\n",
    "\n",
    "A better fit to the residuals is provided by the second-order autoregressive model:\n",
    "$$\n",
    "        \\varepsilon_t = \\phi_1 \\varepsilon_{t - 1} + \\phi_2 \\varepsilon_{t - 2} + Z_t,\n",
    "$$\n",
    "where $Z_t$ is IID noise."
   ]
  },
  {
   "cell_type": "code",
   "execution_count": 89,
   "metadata": {},
   "outputs": [
    {
     "name": "stdout",
     "output_type": "stream",
     "text": [
      "96 96 96\n"
     ]
    }
   ],
   "source": [
    "residuals = list(df_huron.residuals)\n",
    "\n",
    "residuals_shifted_1 = residuals[1: ]\n",
    "residuals_shifted_2 = residuals[2: ]\n",
    "\n",
    "residuals = residuals[:-2]\n",
    "residuals_shifted_1 = residuals_shifted_1[: -1]\n",
    "\n",
    "print(len(residuals), len(residuals_shifted_1), len(residuals_shifted_2))"
   ]
  },
  {
   "cell_type": "code",
   "execution_count": 91,
   "metadata": {},
   "outputs": [
    {
     "name": "stdout",
     "output_type": "stream",
     "text": [
      "[-0.28339451  1.00198748]\n"
     ]
    }
   ],
   "source": [
    "df_ar_2 = pd.DataFrame(columns=['residuals', 'residuals_shft_1', 'residuals_shft_2'])\n",
    "df_ar_2['residuals'] = residuals\n",
    "df_ar_2['residuals_shft_1'] = residuals_shifted_1\n",
    "df_ar_2['residuals_shft_2'] = residuals_shifted_2\n",
    "\n",
    "model = LinearRegression(fit_intercept=False)\n",
    "\n",
    "model.fit(df_ar_2[['residuals', 'residuals_shft_1']], df_ar_2.residuals_shft_2)\n",
    "\n",
    "a_1 = model.coef_\n",
    "\n",
    "print(a_1)"
   ]
  },
  {
   "cell_type": "code",
   "execution_count": 92,
   "metadata": {},
   "outputs": [],
   "source": [
    "df_ar_2['error'] = df_ar_2.residuals_shft_2 - a_1[0] * df_ar_2.residuals - a_1[1] * df_ar_2.residuals_shft_1"
   ]
  },
  {
   "cell_type": "code",
   "execution_count": 93,
   "metadata": {},
   "outputs": [
    {
     "data": {
      "image/png": "[encoded data removed]",
      "text/plain": [
       "<Figure size 720x468 with 1 Axes>"
      ]
     },
     "metadata": {},
     "output_type": "display_data"
    }
   ],
   "source": [
    "plot_acf(df_ar_2.error, max_lag=40)"
   ]
  }
 ],
 "metadata": {
  "kernelspec": {
   "display_name": "Python 3",
   "language": "python",
   "name": "python3"
  },
  "language_info": {
   "codemirror_mode": {
    "name": "ipython",
    "version": 3
   },
   "file_extension": ".py",
   "mimetype": "text/x-python",
   "name": "python",
   "nbconvert_exporter": "python",
   "pygments_lexer": "ipython3",
   "version": "3.6.5"
  }
 },
 "nbformat": 4,
 "nbformat_minor": 2
}
