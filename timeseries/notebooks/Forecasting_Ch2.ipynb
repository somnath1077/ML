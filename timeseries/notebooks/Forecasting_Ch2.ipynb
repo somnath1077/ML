{
 "cells": [
  {
   "cell_type": "code",
   "execution_count": 6,
   "metadata": {},
   "outputs": [],
   "source": [
    "FILEPATH <- '../data/auto.rda'\n",
    "\n",
    "load(FILEPATH)"
   ]
  },
  {
   "cell_type": "code",
   "execution_count": 9,
   "metadata": {},
   "outputs": [],
   "source": [
    "#' Monthly beer production\n",
    "#'\n",
    "#' Monthly Australian beer production: Jan 1991 -- Aug 1995.\n",
    "#'\n",
    "#'\n",
    "#' @format Time series data\n",
    "#' @source Makridakis, Wheelwright and Hyndman (1998) \\emph{Forecasting:\n",
    "#' methods and applications}, John Wiley & Sons: New York. Chapter 2.\n",
    "#' @keywords datasets\n",
    "#' @examples\n",
    "#' plot(beer)\n",
    "#' seasonplot(beer)\n",
    "#' tsdisplay(beer)\n",
    "#' @export\n",
    "\n",
    "beer <- stats::ts(c(164, 148, 152, 144, 155, 125, 153, 146, 138, 190,\n",
    "192, 192, 147, 133, 163, 150, 129, 131, 145, 137, 138, 168, 176,\n",
    "188, 139, 143, 150, 154, 137, 129, 128, 140, 143, 151, 177, 184,\n",
    "151, 134, 164, 126, 131, 125, 127, 143, 143, 160, 190, 182, 138,\n",
    "136, 152, 127, 151, 130, 119, 153),start=1991,frequency=12)"
   ]
  },
  {
   "cell_type": "code",
   "execution_count": 10,
   "metadata": {},
   "outputs": [
    {
     "data": {
      "text/plain": [
       "     Jan Feb Mar Apr May Jun Jul Aug Sep Oct Nov Dec\n",
       "1991 164 148 152 144 155 125 153 146 138 190 192 192\n",
       "1992 147 133 163 150 129 131 145 137 138 168 176 188\n",
       "1993 139 143 150 154 137 129 128 140 143 151 177 184\n",
       "1994 151 134 164 126 131 125 127 143 143 160 190 182\n",
       "1995 138 136 152 127 151 130 119 153                "
      ]
     },
     "metadata": {},
     "output_type": "display_data"
    }
   ],
   "source": [
    "beer"
   ]
  }
 ],
 "metadata": {
  "kernelspec": {
   "display_name": "R 3.4",
   "language": "R",
   "name": "ir34"
  },
  "language_info": {
   "codemirror_mode": "r",
   "file_extension": ".r",
   "mimetype": "text/x-r-source",
   "name": "R",
   "pygments_lexer": "r",
   "version": "3.4.4"
  }
 },
 "nbformat": 4,
 "nbformat_minor": 2
}
