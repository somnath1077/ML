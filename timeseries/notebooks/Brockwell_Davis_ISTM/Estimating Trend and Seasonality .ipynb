{
 "cells": [
  {
   "cell_type": "markdown",
   "metadata": {},
   "source": [
    "## Classical Decomposition Model\n",
    "\n",
    "$$\n",
    "    X_t = m_t + s_t + Y_t, \\ \\ 1 \\leq t \\leq n\n",
    "$$\n",
    "where $E[Y_t] = 0$, $s_t = s_{t + d}$ and $\\sum_{i = 1}^{d} s_i = 0$. \n",
    "\n",
    "This is an implementation of the method outlines in Brockwell and Davis (Chapter 1, Section 5.2)"
   ]
  },
  {
   "cell_type": "code",
   "execution_count": 26,
   "metadata": {},
   "outputs": [],
   "source": [
    "import numpy as np\n",
    "import pandas as pd\n",
    "import matplotlib.pyplot as plt\n",
    "\n",
    "def f(w):\n",
    "    def g(x):\n",
    "        return (x * w).sum() / (len(w) - 1)\n",
    "    return g\n",
    "\n",
    "def calculate_initial_trend(x, d):\n",
    "    assert d > 0\n",
    "    \n",
    "    if d % 2 == 0:\n",
    "        wts = [0.5] + [1] * (d - 1) + [0.5]\n",
    "        return x.rolling(window = d + 1, center = True).apply(f(wts))\n",
    "    \n",
    "    return x.rolling(window = d, center = True).mean()\n",
    "\n",
    "def estimate_seasonal_component(x, d):\n",
    "    ini_trend = calculate_initial_trend(x, d)\n",
    "    diff = x - ini_trend\n",
    "    n = len(x)\n",
    "    \n",
    "    if d % 2 == 0:\n",
    "        q = int(d / 2)\n",
    "    else:\n",
    "        q = int((d - 1) / 2)\n",
    "    \n",
    "    # this is the vector that will hold the seasonality values    \n",
    "    w = np.zeros(d)\n",
    "    \n",
    "    # these are the starting points\n",
    "    st = [q + k for k in range(0, d)]\n",
    "    \n",
    "    for k in range(0, d):\n",
    "        # these are the indices for the kth seasonlity component\n",
    "        indices = [idx for idx in range(st[k], n - q)]\n",
    "        for idx in indices:\n",
    "            w[k] += diff[idx]\n",
    "    mu = np.mean(w)\n",
    "    return (w - mu)      \n",
    "\n",
    "def trend_exp_smooth(x, alpha):\n",
    "    ret = np.ones(len(x))\n",
    "    ret[0] = x[0]\n",
    "    \n",
    "    for t in np.arange(1, len(x), 1):\n",
    "        first = [alpha * (1 - alpha)**j * x[t - j] for j in range(0, t)]\n",
    "        ret[t] = np.sum(first) + (1 - alpha)**t * x[0]\n",
    "        \n",
    "    return list(ret)\n",
    "\n",
    "def est_trend_seasonality(x, d, alpha):\n",
    "    season = estimate_seasonal_component(x, d)\n",
    "    trend = trend_exp_smooth(x, alpha)\n",
    "    return season, trend"
   ]
  },
  {
   "cell_type": "code",
   "execution_count": 18,
   "metadata": {},
   "outputs": [],
   "source": [
    "df = pd.DataFrame(columns=['x'])\n",
    "df['x'] = [i for i in range(1, 11)]"
   ]
  },
  {
   "cell_type": "code",
   "execution_count": 19,
   "metadata": {},
   "outputs": [
    {
     "data": {
      "text/html": [
       "<div>\n",
       "<style scoped>\n",
       "    .dataframe tbody tr th:only-of-type {\n",
       "        vertical-align: middle;\n",
       "    }\n",
       "\n",
       "    .dataframe tbody tr th {\n",
       "        vertical-align: top;\n",
       "    }\n",
       "\n",
       "    .dataframe thead th {\n",
       "        text-align: right;\n",
       "    }\n",
       "</style>\n",
       "<table border=\"1\" class=\"dataframe\">\n",
       "  <thead>\n",
       "    <tr style=\"text-align: right;\">\n",
       "      <th></th>\n",
       "      <th>x</th>\n",
       "    </tr>\n",
       "  </thead>\n",
       "  <tbody>\n",
       "    <tr>\n",
       "      <th>0</th>\n",
       "      <td>1</td>\n",
       "    </tr>\n",
       "    <tr>\n",
       "      <th>1</th>\n",
       "      <td>2</td>\n",
       "    </tr>\n",
       "    <tr>\n",
       "      <th>2</th>\n",
       "      <td>3</td>\n",
       "    </tr>\n",
       "    <tr>\n",
       "      <th>3</th>\n",
       "      <td>4</td>\n",
       "    </tr>\n",
       "    <tr>\n",
       "      <th>4</th>\n",
       "      <td>5</td>\n",
       "    </tr>\n",
       "    <tr>\n",
       "      <th>5</th>\n",
       "      <td>6</td>\n",
       "    </tr>\n",
       "    <tr>\n",
       "      <th>6</th>\n",
       "      <td>7</td>\n",
       "    </tr>\n",
       "    <tr>\n",
       "      <th>7</th>\n",
       "      <td>8</td>\n",
       "    </tr>\n",
       "    <tr>\n",
       "      <th>8</th>\n",
       "      <td>9</td>\n",
       "    </tr>\n",
       "    <tr>\n",
       "      <th>9</th>\n",
       "      <td>10</td>\n",
       "    </tr>\n",
       "  </tbody>\n",
       "</table>\n",
       "</div>"
      ],
      "text/plain": [
       "    x\n",
       "0   1\n",
       "1   2\n",
       "2   3\n",
       "3   4\n",
       "4   5\n",
       "5   6\n",
       "6   7\n",
       "7   8\n",
       "8   9\n",
       "9  10"
      ]
     },
     "execution_count": 19,
     "metadata": {},
     "output_type": "execute_result"
    }
   ],
   "source": [
    "df"
   ]
  },
  {
   "cell_type": "code",
   "execution_count": 23,
   "metadata": {},
   "outputs": [
    {
     "name": "stderr",
     "output_type": "stream",
     "text": [
      "/home/somnath/Envs/env3.6/lib/python3.6/site-packages/ipykernel_launcher.py:15: FutureWarning: Currently, 'apply' passes the values as ndarrays to the applied function. In the future, this will change to passing it as Series objects. You need to specify 'raw=True' to keep the current behaviour, and you can pass 'raw=False' to silence this warning\n",
      "  from ipykernel import kernelapp as app\n"
     ]
    }
   ],
   "source": [
    "seasonality = estimate_seasonal_component(df['x'], d=4)"
   ]
  },
  {
   "cell_type": "code",
   "execution_count": 24,
   "metadata": {},
   "outputs": [
    {
     "data": {
      "text/plain": [
       "array([0., 0., 0., 0.])"
      ]
     },
     "execution_count": 24,
     "metadata": {},
     "output_type": "execute_result"
    }
   ],
   "source": [
    "seasonality"
   ]
  },
  {
   "cell_type": "code",
   "execution_count": 29,
   "metadata": {},
   "outputs": [],
   "source": [
    "deaths = pd.read_csv(\"../../data/CSV/deaths.csv\")"
   ]
  },
  {
   "cell_type": "code",
   "execution_count": 30,
   "metadata": {},
   "outputs": [
    {
     "data": {
      "text/html": [
       "<div>\n",
       "<style scoped>\n",
       "    .dataframe tbody tr th:only-of-type {\n",
       "        vertical-align: middle;\n",
       "    }\n",
       "\n",
       "    .dataframe tbody tr th {\n",
       "        vertical-align: top;\n",
       "    }\n",
       "\n",
       "    .dataframe thead th {\n",
       "        text-align: right;\n",
       "    }\n",
       "</style>\n",
       "<table border=\"1\" class=\"dataframe\">\n",
       "  <thead>\n",
       "    <tr style=\"text-align: right;\">\n",
       "      <th></th>\n",
       "      <th>month</th>\n",
       "      <th>year</th>\n",
       "      <th>deaths</th>\n",
       "    </tr>\n",
       "  </thead>\n",
       "  <tbody>\n",
       "    <tr>\n",
       "      <th>0</th>\n",
       "      <td>1</td>\n",
       "      <td>1973</td>\n",
       "      <td>9007</td>\n",
       "    </tr>\n",
       "    <tr>\n",
       "      <th>1</th>\n",
       "      <td>2</td>\n",
       "      <td>1973</td>\n",
       "      <td>8106</td>\n",
       "    </tr>\n",
       "    <tr>\n",
       "      <th>2</th>\n",
       "      <td>3</td>\n",
       "      <td>1973</td>\n",
       "      <td>8928</td>\n",
       "    </tr>\n",
       "    <tr>\n",
       "      <th>3</th>\n",
       "      <td>4</td>\n",
       "      <td>1973</td>\n",
       "      <td>9137</td>\n",
       "    </tr>\n",
       "    <tr>\n",
       "      <th>4</th>\n",
       "      <td>5</td>\n",
       "      <td>1973</td>\n",
       "      <td>10017</td>\n",
       "    </tr>\n",
       "  </tbody>\n",
       "</table>\n",
       "</div>"
      ],
      "text/plain": [
       "   month  year  deaths\n",
       "0      1  1973    9007\n",
       "1      2  1973    8106\n",
       "2      3  1973    8928\n",
       "3      4  1973    9137\n",
       "4      5  1973   10017"
      ]
     },
     "execution_count": 30,
     "metadata": {},
     "output_type": "execute_result"
    }
   ],
   "source": [
    "deaths.head()"
   ]
  },
  {
   "cell_type": "code",
   "execution_count": 35,
   "metadata": {},
   "outputs": [],
   "source": [
    "# using day == 1 for converting month, year to datetime objects. Merely a convenience\n",
    "deaths['day'] = [1] * len(deaths)\n",
    "deaths['date'] = pd.to_datetime(deaths[['year','month', 'day']])"
   ]
  },
  {
   "cell_type": "code",
   "execution_count": 36,
   "metadata": {},
   "outputs": [
    {
     "data": {
      "text/plain": [
       "[<matplotlib.lines.Line2D at 0x7f3ff7e06710>]"
      ]
     },
     "execution_count": 36,
     "metadata": {},
     "output_type": "execute_result"
    },
    {
     "data": {
      "image/png": "[encoded data removed]",
      "text/plain": [
       "<Figure size 432x288 with 1 Axes>"
      ]
     },
     "metadata": {},
     "output_type": "display_data"
    }
   ],
   "source": [
    "plt.plot(deaths['date'], deaths['deaths'])"
   ]
  }
 ],
 "metadata": {
  "kernelspec": {
   "display_name": "Python 3",
   "language": "python",
   "name": "python3"
  },
  "language_info": {
   "codemirror_mode": {
    "name": "ipython",
    "version": 3
   },
   "file_extension": ".py",
   "mimetype": "text/x-python",
   "name": "python",
   "nbconvert_exporter": "python",
   "pygments_lexer": "ipython3",
   "version": "3.6.5"
  }
 },
 "nbformat": 4,
 "nbformat_minor": 2
}
