{
 "cells": [
  {
   "cell_type": "markdown",
   "metadata": {},
   "source": [
    "This series of notebooks follows the course _Dive into Deep Learning._ This is work in progress."
   ]
  }
 ],
 "metadata": {
  "kernelspec": {
   "display_name": "local3.7",
   "language": "python",
   "name": "local3.7"
  },
  "language_info": {
   "codemirror_mode": {
    "name": "ipython",
    "version": 3
   },
   "file_extension": ".py",
   "mimetype": "text/x-python",
   "name": "python",
   "nbconvert_exporter": "python",
   "pygments_lexer": "ipython3",
   "version": "3.7.4"
  }
 },
 "nbformat": 4,
 "nbformat_minor": 2
}
