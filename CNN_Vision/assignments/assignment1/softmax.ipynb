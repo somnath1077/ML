{
 "cells": [
  {
   "cell_type": "markdown",
   "metadata": {},
   "source": [
    "# Softmax exercise\n",
    "\n",
    "*Complete and hand in this completed worksheet (including its outputs and any supporting code outside of the worksheet) with your assignment submission. For more details see the [assignments page](http://vision.stanford.edu/teaching/cs231n/assignments.html) on the course website.*\n",
    "\n",
    "This exercise is analogous to the SVM exercise. You will:\n",
    "\n",
    "- implement a fully-vectorized **loss function** for the Softmax classifier\n",
    "- implement the fully-vectorized expression for its **analytic gradient**\n",
    "- **check your implementation** with numerical gradient\n",
    "- use a validation set to **tune the learning rate and regularization** strength\n",
    "- **optimize** the loss function with **SGD**\n",
    "- **visualize** the final learned weights\n"
   ]
  },
  {
   "cell_type": "code",
   "execution_count": 1,
   "metadata": {},
   "outputs": [],
   "source": [
    "import random\n",
    "import numpy as np\n",
    "from cs231n.data_utils import load_CIFAR10\n",
    "import matplotlib.pyplot as plt\n",
    "\n",
    "from __future__ import print_function\n",
    "\n",
    "%matplotlib inline\n",
    "plt.rcParams['figure.figsize'] = (10.0, 8.0) # set default size of plots\n",
    "plt.rcParams['image.interpolation'] = 'nearest'\n",
    "plt.rcParams['image.cmap'] = 'gray'\n",
    "\n",
    "# for auto-reloading extenrnal modules\n",
    "# see http://stackoverflow.com/questions/1907993/autoreload-of-modules-in-ipython\n",
    "%load_ext autoreload\n",
    "%autoreload 2"
   ]
  },
  {
   "cell_type": "code",
   "execution_count": 2,
   "metadata": {},
   "outputs": [
    {
     "name": "stdout",
     "output_type": "stream",
     "text": [
      "Train data shape:  (49000, 3073)\n",
      "Train labels shape:  (49000,)\n",
      "Validation data shape:  (1000, 3073)\n",
      "Validation labels shape:  (1000,)\n",
      "Test data shape:  (1000, 3073)\n",
      "Test labels shape:  (1000,)\n",
      "dev data shape:  (500, 3073)\n",
      "dev labels shape:  (500,)\n"
     ]
    }
   ],
   "source": [
    "def get_CIFAR10_data(num_training=49000, num_validation=1000, num_test=1000, num_dev=500):\n",
    "    \"\"\"\n",
    "    Load the CIFAR-10 dataset from disk and perform preprocessing to prepare\n",
    "    it for the linear classifier. These are the same steps as we used for the\n",
    "    SVM, but condensed to a single function.  \n",
    "    \"\"\"\n",
    "    # Load the raw CIFAR-10 data\n",
    "    cifar10_dir = 'cs231n/datasets/cifar-10-batches-py'\n",
    "    X_train, y_train, X_test, y_test = load_CIFAR10(cifar10_dir)\n",
    "    \n",
    "    # subsample the data\n",
    "    mask = list(range(num_training, num_training + num_validation))\n",
    "    X_val = X_train[mask]\n",
    "    y_val = y_train[mask]\n",
    "    mask = list(range(num_training))\n",
    "    X_train = X_train[mask]\n",
    "    y_train = y_train[mask]\n",
    "    mask = list(range(num_test))\n",
    "    X_test = X_test[mask]\n",
    "    y_test = y_test[mask]\n",
    "    mask = np.random.choice(num_training, num_dev, replace=False)\n",
    "    X_dev = X_train[mask]\n",
    "    y_dev = y_train[mask]\n",
    "    \n",
    "    # Preprocessing: reshape the image data into rows\n",
    "    X_train = np.reshape(X_train, (X_train.shape[0], -1))\n",
    "    X_val = np.reshape(X_val, (X_val.shape[0], -1))\n",
    "    X_test = np.reshape(X_test, (X_test.shape[0], -1))\n",
    "    X_dev = np.reshape(X_dev, (X_dev.shape[0], -1))\n",
    "    \n",
    "    # Normalize the data: subtract the mean image\n",
    "    mean_image = np.mean(X_train, axis = 0)\n",
    "    X_train -= mean_image\n",
    "    X_val -= mean_image\n",
    "    X_test -= mean_image\n",
    "    X_dev -= mean_image\n",
    "    \n",
    "    # add bias dimension and transform into columns\n",
    "    X_train = np.hstack([X_train, np.ones((X_train.shape[0], 1))])\n",
    "    X_val = np.hstack([X_val, np.ones((X_val.shape[0], 1))])\n",
    "    X_test = np.hstack([X_test, np.ones((X_test.shape[0], 1))])\n",
    "    X_dev = np.hstack([X_dev, np.ones((X_dev.shape[0], 1))])\n",
    "    \n",
    "    return X_train, y_train, X_val, y_val, X_test, y_test, X_dev, y_dev\n",
    "\n",
    "\n",
    "# Invoke the above function to get our data.\n",
    "X_train, y_train, X_val, y_val, X_test, y_test, X_dev, y_dev = get_CIFAR10_data()\n",
    "print('Train data shape: ', X_train.shape)\n",
    "print('Train labels shape: ', y_train.shape)\n",
    "print('Validation data shape: ', X_val.shape)\n",
    "print('Validation labels shape: ', y_val.shape)\n",
    "print('Test data shape: ', X_test.shape)\n",
    "print('Test labels shape: ', y_test.shape)\n",
    "print('dev data shape: ', X_dev.shape)\n",
    "print('dev labels shape: ', y_dev.shape)"
   ]
  },
  {
   "cell_type": "markdown",
   "metadata": {},
   "source": [
    "## Softmax Classifier\n",
    "\n",
    "Your code for this section will all be written inside **cs231n/classifiers/softmax.py**. \n"
   ]
  },
  {
   "cell_type": "code",
   "execution_count": 3,
   "metadata": {},
   "outputs": [
    {
     "name": "stdout",
     "output_type": "stream",
     "text": [
      "loss: 2.368103\n",
      "sanity check: 2.302585\n"
     ]
    }
   ],
   "source": [
    "# First implement the naive softmax loss function with nested loops.\n",
    "# Open the file cs231n/classifiers/softmax.py and implement the\n",
    "# softmax_loss_naive function.\n",
    "\n",
    "from cs231n.classifiers.softmax import softmax_loss_naive\n",
    "import time\n",
    "\n",
    "# Generate a random softmax weight matrix and use it to compute the loss.\n",
    "W = np.random.randn(3073, 10) * 0.0001\n",
    "loss, grad = softmax_loss_naive(W, X_dev, y_dev, 0.0)\n",
    "\n",
    "# As a rough sanity check, our loss should be something close to -log(0.1).\n",
    "print('loss: %f' % loss)\n",
    "print('sanity check: %f' % (-np.log(0.1)))"
   ]
  },
  {
   "cell_type": "markdown",
   "metadata": {},
   "source": [
    "## Inline Question 1:\n",
    "Why do we expect our loss to be close to -log(0.1)? Explain briefly.**\n",
    "\n",
    "**Your answer:** *Fill this in*\n"
   ]
  },
  {
   "cell_type": "code",
   "execution_count": 4,
   "metadata": {},
   "outputs": [
    {
     "name": "stdout",
     "output_type": "stream",
     "text": [
      "numerical: 2.666449 analytic: 2.666449, relative error: 4.478057e-08\n",
      "numerical: 0.833165 analytic: 0.833165, relative error: 9.105935e-08\n",
      "numerical: 1.545463 analytic: 1.545463, relative error: 9.553159e-09\n",
      "numerical: -2.406759 analytic: -2.406759, relative error: 3.457382e-09\n",
      "numerical: -0.888532 analytic: -0.888533, relative error: 4.766824e-08\n",
      "numerical: -2.888132 analytic: -2.888132, relative error: 1.393291e-08\n",
      "numerical: -0.436458 analytic: -0.436458, relative error: 1.087951e-07\n",
      "numerical: 0.419392 analytic: 0.419392, relative error: 6.044013e-08\n",
      "numerical: 2.803813 analytic: 2.803813, relative error: 8.931554e-09\n",
      "numerical: -2.676528 analytic: -2.676528, relative error: 6.446735e-09\n",
      "numerical: -0.872942 analytic: -0.872942, relative error: 1.775033e-08\n",
      "numerical: 0.483758 analytic: 0.483758, relative error: 5.736110e-08\n",
      "numerical: -2.471125 analytic: -2.471125, relative error: 2.887268e-09\n",
      "numerical: 1.249096 analytic: 1.249096, relative error: 7.861051e-09\n",
      "numerical: -1.010386 analytic: -1.010386, relative error: 5.033872e-08\n",
      "numerical: -0.120799 analytic: -0.120799, relative error: 4.525816e-07\n",
      "numerical: -0.760329 analytic: -0.760329, relative error: 5.669903e-09\n",
      "numerical: -3.586996 analytic: -3.586997, relative error: 1.836101e-08\n",
      "numerical: 1.661823 analytic: 1.661823, relative error: 8.353308e-09\n",
      "numerical: -1.078904 analytic: -1.078904, relative error: 1.416371e-09\n"
     ]
    }
   ],
   "source": [
    "# Complete the implementation of softmax_loss_naive and implement a (naive)\n",
    "# version of the gradient that uses nested loops.\n",
    "loss, grad = softmax_loss_naive(W, X_dev, y_dev, 0.0)\n",
    "\n",
    "# As we did for the SVM, use numeric gradient checking as a debugging tool.\n",
    "# The numeric gradient should be close to the analytic gradient.\n",
    "from cs231n.gradient_check import grad_check_sparse\n",
    "f = lambda w: softmax_loss_naive(w, X_dev, y_dev, 0.0)[0]\n",
    "grad_numerical = grad_check_sparse(f, W, grad, 10)\n",
    "\n",
    "# similar to SVM case, do another gradient check with regularization\n",
    "loss, grad = softmax_loss_naive(W, X_dev, y_dev, 5e1)\n",
    "f = lambda w: softmax_loss_naive(w, X_dev, y_dev, 5e1)[0]\n",
    "grad_numerical = grad_check_sparse(f, W, grad, 10)"
   ]
  },
  {
   "cell_type": "code",
   "execution_count": 5,
   "metadata": {},
   "outputs": [
    {
     "name": "stdout",
     "output_type": "stream",
     "text": [
      "naive loss: 2.368103e+00 computed in 0.120807s\n",
      "vectorized loss: 2.368103e+00 computed in 0.012327s\n",
      "Loss difference: 0.000000\n",
      "Gradient difference: 0.000000\n"
     ]
    }
   ],
   "source": [
    "# Now that we have a naive implementation of the softmax loss function and its gradient,\n",
    "# implement a vectorized version in softmax_loss_vectorized.\n",
    "# The two versions should compute the same results, but the vectorized version should be\n",
    "# much faster.\n",
    "tic = time.time()\n",
    "loss_naive, grad_naive = softmax_loss_naive(W, X_dev, y_dev, 0.000005)\n",
    "toc = time.time()\n",
    "print('naive loss: %e computed in %fs' % (loss_naive, toc - tic))\n",
    "\n",
    "from cs231n.classifiers.softmax import softmax_loss_vectorized\n",
    "tic = time.time()\n",
    "loss_vectorized, grad_vectorized = softmax_loss_vectorized(W, X_dev, y_dev, 0.000005)\n",
    "toc = time.time()\n",
    "print('vectorized loss: %e computed in %fs' % (loss_vectorized, toc - tic))\n",
    "\n",
    "# As we did for the SVM, we use the Frobenius norm to compare the two versions\n",
    "# of the gradient.\n",
    "grad_difference = np.linalg.norm(grad_naive - grad_vectorized, ord='fro')\n",
    "print('Loss difference: %f' % np.abs(loss_naive - loss_vectorized))\n",
    "print('Gradient difference: %f' % grad_difference)"
   ]
  },
  {
   "cell_type": "code",
   "execution_count": 6,
   "metadata": {},
   "outputs": [
    {
     "name": "stdout",
     "output_type": "stream",
     "text": [
      "iteration 0 / 1500: loss 20.725599\n",
      "iteration 100 / 1500: loss 18.993838\n",
      "iteration 200 / 1500: loss 18.383721\n",
      "iteration 300 / 1500: loss 17.747643\n",
      "iteration 400 / 1500: loss 17.065100\n",
      "iteration 500 / 1500: loss 16.759670\n",
      "iteration 600 / 1500: loss 16.427928\n",
      "iteration 700 / 1500: loss 15.953043\n",
      "iteration 800 / 1500: loss 15.855319\n",
      "iteration 900 / 1500: loss 15.373676\n",
      "iteration 1000 / 1500: loss 15.009037\n",
      "iteration 1100 / 1500: loss 14.838369\n",
      "iteration 1200 / 1500: loss 14.340550\n",
      "iteration 1300 / 1500: loss 14.103548\n",
      "iteration 1400 / 1500: loss 14.049022\n",
      "iteration 0 / 1500: loss 37.004324\n",
      "iteration 100 / 1500: loss 27.941008\n",
      "iteration 200 / 1500: loss 22.842742\n",
      "iteration 300 / 1500: loss 18.922983\n",
      "iteration 400 / 1500: loss 15.662639\n",
      "iteration 500 / 1500: loss 13.114571\n",
      "iteration 600 / 1500: loss 11.044127\n",
      "iteration 700 / 1500: loss 9.302678\n",
      "iteration 800 / 1500: loss 7.865981\n",
      "iteration 900 / 1500: loss 6.834068\n",
      "iteration 1000 / 1500: loss 6.044922\n",
      "iteration 1100 / 1500: loss 5.204028\n",
      "iteration 1200 / 1500: loss 4.462377\n",
      "iteration 1300 / 1500: loss 3.988803\n",
      "iteration 1400 / 1500: loss 3.692205\n",
      "iteration 0 / 1500: loss 157.675036\n",
      "iteration 100 / 1500: loss 22.057458\n",
      "iteration 200 / 1500: loss 4.558317\n",
      "iteration 300 / 1500: loss 2.299849\n",
      "iteration 400 / 1500: loss 2.004497\n",
      "iteration 500 / 1500: loss 2.071766\n",
      "iteration 600 / 1500: loss 1.908993\n",
      "iteration 700 / 1500: loss 1.965582\n",
      "iteration 800 / 1500: loss 1.942731\n",
      "iteration 900 / 1500: loss 1.931865\n",
      "iteration 1000 / 1500: loss 2.030234\n",
      "iteration 1100 / 1500: loss 1.983757\n",
      "iteration 1200 / 1500: loss 1.936499\n",
      "iteration 1300 / 1500: loss 1.895014\n",
      "iteration 1400 / 1500: loss 1.952314\n",
      "iteration 0 / 1500: loss 312.184452\n",
      "iteration 100 / 1500: loss 4.273299\n",
      "iteration 200 / 1500: loss 4.038647\n",
      "iteration 300 / 1500: loss 4.296342\n",
      "iteration 400 / 1500: loss 5.118715\n",
      "iteration 500 / 1500: loss 4.460053\n",
      "iteration 600 / 1500: loss 6.996675\n",
      "iteration 700 / 1500: loss 6.572852\n",
      "iteration 800 / 1500: loss 5.317069\n",
      "iteration 900 / 1500: loss 5.853205\n",
      "iteration 1000 / 1500: loss 4.749755\n",
      "iteration 1100 / 1500: loss 6.892901\n",
      "iteration 1200 / 1500: loss 5.592313\n",
      "iteration 1300 / 1500: loss 6.362070\n",
      "iteration 1400 / 1500: loss 5.920441\n",
      "lr 1.000000e-07 reg 5.000000e+02 train accuracy: 0.255020 val accuracy: 0.252000\n",
      "lr 5.000000e-07 reg 1.000000e+03 train accuracy: 0.388143 val accuracy: 0.386000\n",
      "lr 1.000000e-06 reg 5.000000e+03 train accuracy: 0.361429 val accuracy: 0.364000\n",
      "lr 1.000000e-05 reg 1.000000e+04 train accuracy: 0.181041 val accuracy: 0.196000\n",
      "best validation accuracy achieved during cross-validation: 0.386000\n"
     ]
    }
   ],
   "source": [
    "# Use the validation set to tune hyperparameters (regularization strength and\n",
    "# learning rate). You should experiment with different ranges for the learning\n",
    "# rates and regularization strengths; if you are careful you should be able to\n",
    "# get a classification accuracy of over 0.35 on the validation set.\n",
    "from cs231n.classifiers import Softmax\n",
    "\n",
    "results = {}\n",
    "best_val = -1\n",
    "best_softmax = None\n",
    "\n",
    "learning_rates = [1e-7, 5e-7, 1e-6, 1e-5]\n",
    "regularization_strengths = [5e2, 1e3, 5e3, 1e4, 2.5e4, 5e4]\n",
    "\n",
    "for l_rate, r_strength in zip(learning_rates, regularization_strengths):\n",
    "    softmax =  Softmax()\n",
    "    softmax.train(X_train, y_train, learning_rate=l_rate, reg=r_strength,\n",
    "                  num_iters=1500, verbose=True)\n",
    "    y_train_pred = softmax.predict(X_train)\n",
    "    y_val_pred = softmax.predict(X_val)\n",
    "    \n",
    "    training_accuracy = np.mean(y_train == y_train_pred)\n",
    "    validation_accuracy = np.mean(y_val == y_val_pred)\n",
    "    \n",
    "    if validation_accuracy > best_val:\n",
    "        best_softmax = softmax\n",
    "        best_val = validation_accuracy\n",
    "        \n",
    "    results[(l_rate, r_strength)] = (training_accuracy, validation_accuracy)\n",
    "    \n",
    "################################################################################\n",
    "# TODO:                                                                        #\n",
    "# Use the validation set to set the learning rate and regularization strength. #\n",
    "# This should be identical to the validation that you did for the SVM; save    #\n",
    "# the best trained softmax classifer in best_softmax.                          #\n",
    "################################################################################\n",
    "\n",
    "################################################################################\n",
    "#                              END OF YOUR CODE                                #\n",
    "################################################################################\n",
    "    \n",
    "# Print out results.\n",
    "for lr, reg in sorted(results):\n",
    "    train_accuracy, val_accuracy = results[(lr, reg)]\n",
    "    print('lr %e reg %e train accuracy: %f val accuracy: %f' % (\n",
    "                lr, reg, train_accuracy, val_accuracy))\n",
    "    \n",
    "print('best validation accuracy achieved during cross-validation: %f' % best_val)"
   ]
  },
  {
   "cell_type": "code",
   "execution_count": 7,
   "metadata": {},
   "outputs": [
    {
     "name": "stdout",
     "output_type": "stream",
     "text": [
      "softmax on raw pixels final test set accuracy: 0.367000\n"
     ]
    }
   ],
   "source": [
    "# evaluate on test set\n",
    "# Evaluate the best softmax on test set\n",
    "y_test_pred = best_softmax.predict(X_test)\n",
    "test_accuracy = np.mean(y_test == y_test_pred)\n",
    "print('softmax on raw pixels final test set accuracy: %f' % (test_accuracy, ))"
   ]
  },
  {
   "cell_type": "code",
   "execution_count": 8,
   "metadata": {},
   "outputs": [
    {
     "data": {
      "image/png": "[encoded data removed]",
      "text/plain": [
       "<matplotlib.figure.Figure at 0x7f3aaa64c828>"
      ]
     },
     "metadata": {},
     "output_type": "display_data"
    }
   ],
   "source": [
    "# Visualize the learned weights for each class\n",
    "w = best_softmax.W[:-1,:] # strip out the bias\n",
    "w = w.reshape(32, 32, 3, 10)\n",
    "\n",
    "w_min, w_max = np.min(w), np.max(w)\n",
    "\n",
    "classes = ['plane', 'car', 'bird', 'cat', 'deer', 'dog', 'frog', 'horse', 'ship', 'truck']\n",
    "for i in range(10):\n",
    "    plt.subplot(2, 5, i + 1)\n",
    "    \n",
    "    # Rescale the weights to be between 0 and 255\n",
    "    wimg = 255.0 * (w[:, :, :, i].squeeze() - w_min) / (w_max - w_min)\n",
    "    plt.imshow(wimg.astype('uint8'))\n",
    "    plt.axis('off')\n",
    "    plt.title(classes[i])"
   ]
  }
 ],
 "metadata": {
  "kernelspec": {
   "display_name": "Python 3",
   "language": "python",
   "name": "python3"
  },
  "language_info": {
   "codemirror_mode": {
    "name": "ipython",
    "version": 3
   },
   "file_extension": ".py",
   "mimetype": "text/x-python",
   "name": "python",
   "nbconvert_exporter": "python",
   "pygments_lexer": "ipython3",
   "version": "3.6.2"
  }
 },
 "nbformat": 4,
 "nbformat_minor": 1
}
