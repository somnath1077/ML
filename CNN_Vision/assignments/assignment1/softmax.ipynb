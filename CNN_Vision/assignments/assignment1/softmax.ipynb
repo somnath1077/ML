{
 "cells": [
  {
   "cell_type": "markdown",
   "metadata": {},
   "source": [
    "# Softmax exercise\n",
    "\n",
    "*Complete and hand in this completed worksheet (including its outputs and any supporting code outside of the worksheet) with your assignment submission. For more details see the [assignments page](http://vision.stanford.edu/teaching/cs231n/assignments.html) on the course website.*\n",
    "\n",
    "This exercise is analogous to the SVM exercise. You will:\n",
    "\n",
    "- implement a fully-vectorized **loss function** for the Softmax classifier\n",
    "- implement the fully-vectorized expression for its **analytic gradient**\n",
    "- **check your implementation** with numerical gradient\n",
    "- use a validation set to **tune the learning rate and regularization** strength\n",
    "- **optimize** the loss function with **SGD**\n",
    "- **visualize** the final learned weights\n"
   ]
  },
  {
   "cell_type": "code",
   "execution_count": 1,
   "metadata": {},
   "outputs": [],
   "source": [
    "import random\n",
    "import numpy as np\n",
    "from cs231n.data_utils import load_CIFAR10\n",
    "import matplotlib.pyplot as plt\n",
    "\n",
    "from __future__ import print_function\n",
    "\n",
    "%matplotlib inline\n",
    "plt.rcParams['figure.figsize'] = (10.0, 8.0) # set default size of plots\n",
    "plt.rcParams['image.interpolation'] = 'nearest'\n",
    "plt.rcParams['image.cmap'] = 'gray'\n",
    "\n",
    "# for auto-reloading extenrnal modules\n",
    "# see http://stackoverflow.com/questions/1907993/autoreload-of-modules-in-ipython\n",
    "%load_ext autoreload\n",
    "%autoreload 2"
   ]
  },
  {
   "cell_type": "code",
   "execution_count": 2,
   "metadata": {},
   "outputs": [
    {
     "name": "stdout",
     "output_type": "stream",
     "text": [
      "Train data shape:  (49000, 3073)\n",
      "Train labels shape:  (49000,)\n",
      "Validation data shape:  (1000, 3073)\n",
      "Validation labels shape:  (1000,)\n",
      "Test data shape:  (1000, 3073)\n",
      "Test labels shape:  (1000,)\n",
      "dev data shape:  (500, 3073)\n",
      "dev labels shape:  (500,)\n"
     ]
    }
   ],
   "source": [
    "def get_CIFAR10_data(num_training=49000, num_validation=1000, num_test=1000, num_dev=500):\n",
    "    \"\"\"\n",
    "    Load the CIFAR-10 dataset from disk and perform preprocessing to prepare\n",
    "    it for the linear classifier. These are the same steps as we used for the\n",
    "    SVM, but condensed to a single function.  \n",
    "    \"\"\"\n",
    "    # Load the raw CIFAR-10 data\n",
    "    cifar10_dir = 'cs231n/datasets/cifar-10-batches-py'\n",
    "    X_train, y_train, X_test, y_test = load_CIFAR10(cifar10_dir)\n",
    "    \n",
    "    # subsample the data\n",
    "    mask = list(range(num_training, num_training + num_validation))\n",
    "    X_val = X_train[mask]\n",
    "    y_val = y_train[mask]\n",
    "    mask = list(range(num_training))\n",
    "    X_train = X_train[mask]\n",
    "    y_train = y_train[mask]\n",
    "    mask = list(range(num_test))\n",
    "    X_test = X_test[mask]\n",
    "    y_test = y_test[mask]\n",
    "    mask = np.random.choice(num_training, num_dev, replace=False)\n",
    "    X_dev = X_train[mask]\n",
    "    y_dev = y_train[mask]\n",
    "    \n",
    "    # Preprocessing: reshape the image data into rows\n",
    "    X_train = np.reshape(X_train, (X_train.shape[0], -1))\n",
    "    X_val = np.reshape(X_val, (X_val.shape[0], -1))\n",
    "    X_test = np.reshape(X_test, (X_test.shape[0], -1))\n",
    "    X_dev = np.reshape(X_dev, (X_dev.shape[0], -1))\n",
    "    \n",
    "    # Normalize the data: subtract the mean image\n",
    "    mean_image = np.mean(X_train, axis = 0)\n",
    "    X_train -= mean_image\n",
    "    X_val -= mean_image\n",
    "    X_test -= mean_image\n",
    "    X_dev -= mean_image\n",
    "    \n",
    "    # add bias dimension and transform into columns\n",
    "    X_train = np.hstack([X_train, np.ones((X_train.shape[0], 1))])\n",
    "    X_val = np.hstack([X_val, np.ones((X_val.shape[0], 1))])\n",
    "    X_test = np.hstack([X_test, np.ones((X_test.shape[0], 1))])\n",
    "    X_dev = np.hstack([X_dev, np.ones((X_dev.shape[0], 1))])\n",
    "    \n",
    "    return X_train, y_train, X_val, y_val, X_test, y_test, X_dev, y_dev\n",
    "\n",
    "\n",
    "# Invoke the above function to get our data.\n",
    "X_train, y_train, X_val, y_val, X_test, y_test, X_dev, y_dev = get_CIFAR10_data()\n",
    "print('Train data shape: ', X_train.shape)\n",
    "print('Train labels shape: ', y_train.shape)\n",
    "print('Validation data shape: ', X_val.shape)\n",
    "print('Validation labels shape: ', y_val.shape)\n",
    "print('Test data shape: ', X_test.shape)\n",
    "print('Test labels shape: ', y_test.shape)\n",
    "print('dev data shape: ', X_dev.shape)\n",
    "print('dev labels shape: ', y_dev.shape)"
   ]
  },
  {
   "cell_type": "markdown",
   "metadata": {},
   "source": [
    "## Softmax Classifier\n",
    "\n",
    "Your code for this section will all be written inside **cs231n/classifiers/softmax.py**. \n"
   ]
  },
  {
   "cell_type": "code",
   "execution_count": 4,
   "metadata": {},
   "outputs": [
    {
     "name": "stdout",
     "output_type": "stream",
     "text": [
      "loss: 2.329669\n",
      "sanity check: 2.302585\n"
     ]
    }
   ],
   "source": [
    "# First implement the naive softmax loss function with nested loops.\n",
    "# Open the file cs231n/classifiers/softmax.py and implement the\n",
    "# softmax_loss_naive function.\n",
    "\n",
    "from cs231n.classifiers.softmax import softmax_loss_naive\n",
    "import time\n",
    "\n",
    "# Generate a random softmax weight matrix and use it to compute the loss.\n",
    "W = np.random.randn(3073, 10) * 0.0001\n",
    "loss, grad = softmax_loss_naive(W, X_dev, y_dev, 0.0)\n",
    "\n",
    "# As a rough sanity check, our loss should be something close to -log(0.1).\n",
    "print('loss: %f' % loss)\n",
    "print('sanity check: %f' % (-np.log(0.1)))"
   ]
  },
  {
   "cell_type": "markdown",
   "metadata": {},
   "source": [
    "## Inline Question 1:\n",
    "Why do we expect our loss to be close to -log(0.1)? Explain briefly.**\n",
    "\n",
    "**Your answer:** *Fill this in*\n"
   ]
  },
  {
   "cell_type": "code",
   "execution_count": 5,
   "metadata": {},
   "outputs": [
    {
     "name": "stdout",
     "output_type": "stream",
     "text": [
      "numerical: -0.654298 analytic: -0.654298, relative error: 3.775978e-08\n",
      "numerical: -2.978845 analytic: -2.978846, relative error: 1.647731e-08\n",
      "numerical: -1.046910 analytic: -1.046910, relative error: 6.404391e-09\n",
      "numerical: 1.512267 analytic: 1.512267, relative error: 2.457592e-08\n",
      "numerical: 1.211962 analytic: 1.211961, relative error: 5.608235e-08\n",
      "numerical: 2.698306 analytic: 2.698306, relative error: 2.110851e-09\n",
      "numerical: 0.452561 analytic: 0.452561, relative error: 2.465890e-08\n",
      "numerical: -3.053220 analytic: -3.053220, relative error: 1.584377e-08\n",
      "numerical: 1.795290 analytic: 1.795290, relative error: 4.236912e-08\n",
      "numerical: -0.977792 analytic: -0.977792, relative error: 2.559210e-08\n",
      "numerical: -0.078500 analytic: -0.078500, relative error: 3.792912e-07\n",
      "numerical: 2.074120 analytic: 2.074120, relative error: 5.576236e-09\n",
      "numerical: 2.187737 analytic: 2.187737, relative error: 1.199343e-09\n",
      "numerical: -0.351834 analytic: -0.351834, relative error: 1.358643e-08\n",
      "numerical: -2.264975 analytic: -2.264975, relative error: 1.297606e-08\n",
      "numerical: -1.433169 analytic: -1.433169, relative error: 5.779190e-08\n",
      "numerical: -1.064984 analytic: -1.064984, relative error: 9.054013e-09\n",
      "numerical: -2.893675 analytic: -2.893674, relative error: 1.520476e-08\n",
      "numerical: -1.520024 analytic: -1.520024, relative error: 1.619874e-08\n",
      "numerical: -0.365347 analytic: -0.365347, relative error: 4.262396e-08\n"
     ]
    }
   ],
   "source": [
    "# Complete the implementation of softmax_loss_naive and implement a (naive)\n",
    "# version of the gradient that uses nested loops.\n",
    "loss, grad = softmax_loss_naive(W, X_dev, y_dev, 0.0)\n",
    "\n",
    "# As we did for the SVM, use numeric gradient checking as a debugging tool.\n",
    "# The numeric gradient should be close to the analytic gradient.\n",
    "from cs231n.gradient_check import grad_check_sparse\n",
    "f = lambda w: softmax_loss_naive(w, X_dev, y_dev, 0.0)[0]\n",
    "grad_numerical = grad_check_sparse(f, W, grad, 10)\n",
    "\n",
    "# similar to SVM case, do another gradient check with regularization\n",
    "loss, grad = softmax_loss_naive(W, X_dev, y_dev, 5e1)\n",
    "f = lambda w: softmax_loss_naive(w, X_dev, y_dev, 5e1)[0]\n",
    "grad_numerical = grad_check_sparse(f, W, grad, 10)"
   ]
  },
  {
   "cell_type": "code",
   "execution_count": 6,
   "metadata": {},
   "outputs": [
    {
     "name": "stdout",
     "output_type": "stream",
     "text": [
      "naive loss: 2.329669e+00 computed in 0.164041s\n",
      "vectorized loss: 2.329669e+00 computed in 0.018570s\n",
      "Loss difference: 0.000000\n",
      "Gradient difference: 0.000000\n"
     ]
    }
   ],
   "source": [
    "# Now that we have a naive implementation of the softmax loss function and its gradient,\n",
    "# implement a vectorized version in softmax_loss_vectorized.\n",
    "# The two versions should compute the same results, but the vectorized version should be\n",
    "# much faster.\n",
    "tic = time.time()\n",
    "loss_naive, grad_naive = softmax_loss_naive(W, X_dev, y_dev, 0.000005)\n",
    "toc = time.time()\n",
    "print('naive loss: %e computed in %fs' % (loss_naive, toc - tic))\n",
    "\n",
    "from cs231n.classifiers.softmax import softmax_loss_vectorized\n",
    "tic = time.time()\n",
    "loss_vectorized, grad_vectorized = softmax_loss_vectorized(W, X_dev, y_dev, 0.000005)\n",
    "toc = time.time()\n",
    "print('vectorized loss: %e computed in %fs' % (loss_vectorized, toc - tic))\n",
    "\n",
    "# As we did for the SVM, we use the Frobenius norm to compare the two versions\n",
    "# of the gradient.\n",
    "grad_difference = np.linalg.norm(grad_naive - grad_vectorized, ord='fro')\n",
    "print('Loss difference: %f' % np.abs(loss_naive - loss_vectorized))\n",
    "print('Gradient difference: %f' % grad_difference)"
   ]
  },
  {
   "cell_type": "code",
   "execution_count": 17,
   "metadata": {},
   "outputs": [
    {
     "name": "stdout",
     "output_type": "stream",
     "text": [
      "iteration 0 / 1500: loss 21.869386\n",
      "iteration 100 / 1500: loss 18.815530\n",
      "iteration 200 / 1500: loss 17.972205\n",
      "iteration 300 / 1500: loss 17.551986\n",
      "iteration 400 / 1500: loss 16.795661\n",
      "iteration 500 / 1500: loss 16.518292\n",
      "iteration 600 / 1500: loss 16.436527\n",
      "iteration 700 / 1500: loss 16.206897\n",
      "iteration 800 / 1500: loss 15.720220\n",
      "iteration 900 / 1500: loss 15.378044\n",
      "iteration 1000 / 1500: loss 14.947717\n",
      "iteration 1100 / 1500: loss 14.875169\n",
      "iteration 1200 / 1500: loss 14.487923\n",
      "iteration 1300 / 1500: loss 14.189714\n",
      "iteration 1400 / 1500: loss 13.760508\n",
      "iteration 0 / 1500: loss 36.228280\n",
      "iteration 100 / 1500: loss 27.709094\n",
      "iteration 200 / 1500: loss 22.973782\n",
      "iteration 300 / 1500: loss 18.905653\n",
      "iteration 400 / 1500: loss 15.570940\n",
      "iteration 500 / 1500: loss 12.908142\n",
      "iteration 600 / 1500: loss 10.927194\n",
      "iteration 700 / 1500: loss 9.222769\n",
      "iteration 800 / 1500: loss 7.876451\n",
      "iteration 900 / 1500: loss 6.740230\n",
      "iteration 1000 / 1500: loss 5.795358\n",
      "iteration 1100 / 1500: loss 5.163752\n",
      "iteration 1200 / 1500: loss 4.483169\n",
      "iteration 1300 / 1500: loss 4.033443\n",
      "iteration 1400 / 1500: loss 3.678970\n",
      "iteration 0 / 1500: loss 159.224170\n",
      "iteration 100 / 1500: loss 22.179809\n",
      "iteration 200 / 1500: loss 4.656757\n",
      "iteration 300 / 1500: loss 2.280591\n",
      "iteration 400 / 1500: loss 1.974682\n",
      "iteration 500 / 1500: loss 1.935612\n",
      "iteration 600 / 1500: loss 1.931032\n",
      "iteration 700 / 1500: loss 1.925614\n",
      "iteration 800 / 1500: loss 1.895149\n",
      "iteration 900 / 1500: loss 2.025604\n",
      "iteration 1000 / 1500: loss 2.016916\n",
      "iteration 1100 / 1500: loss 1.958586\n",
      "iteration 1200 / 1500: loss 1.993308\n",
      "iteration 1300 / 1500: loss 1.938318\n",
      "iteration 1400 / 1500: loss 1.935495\n",
      "iteration 0 / 1500: loss 314.252507\n",
      "iteration 100 / 1500: loss 4.882702\n",
      "iteration 200 / 1500: loss 3.833196\n",
      "iteration 300 / 1500: loss 4.221632\n",
      "iteration 400 / 1500: loss 4.513137\n",
      "iteration 500 / 1500: loss 4.795801\n",
      "iteration 600 / 1500: loss 4.346352\n",
      "iteration 700 / 1500: loss 5.646180\n",
      "iteration 800 / 1500: loss 4.631728\n",
      "iteration 900 / 1500: loss 5.752498\n",
      "iteration 1000 / 1500: loss 5.105810\n",
      "iteration 1100 / 1500: loss 4.159870\n",
      "iteration 1200 / 1500: loss 5.498402\n",
      "iteration 1300 / 1500: loss 4.271725\n",
      "iteration 1400 / 1500: loss 5.228504\n",
      "lr 1.000000e-07 reg 5.000000e+02 train accuracy: 0.257939 val accuracy: 0.260000\n",
      "lr 5.000000e-07 reg 1.000000e+03 train accuracy: 0.387388 val accuracy: 0.390000\n",
      "lr 1.000000e-06 reg 5.000000e+03 train accuracy: 0.364939 val accuracy: 0.365000\n",
      "lr 1.000000e-05 reg 1.000000e+04 train accuracy: 0.237837 val accuracy: 0.247000\n",
      "best validation accuracy achieved during cross-validation: 0.390000\n"
     ]
    }
   ],
   "source": [
    "# Use the validation set to tune hyperparameters (regularization strength and\n",
    "# learning rate). You should experiment with different ranges for the learning\n",
    "# rates and regularization strengths; if you are careful you should be able to\n",
    "# get a classification accuracy of over 0.35 on the validation set.\n",
    "from cs231n.classifiers import Softmax\n",
    "\n",
    "results = {}\n",
    "best_val = -1\n",
    "best_softmax = None\n",
    "\n",
    "learning_rates = [1e-7, 5e-7, 1e-6, 1e-5]\n",
    "regularization_strengths = [5e2, 1e3, 5e3, 1e4, 2.5e4, 5e4]\n",
    "\n",
    "for l_rate, r_strength in zip(learning_rates, regularization_strengths):\n",
    "    softmax =  Softmax()\n",
    "    softmax.train(X_train, y_train, learning_rate=l_rate, reg=r_strength,\n",
    "                  num_iters=1500, verbose=True)\n",
    "    y_train_pred = softmax.predict(X_train)\n",
    "    y_val_pred = softmax.predict(X_val)\n",
    "    \n",
    "    training_accuracy = np.mean(y_train == y_train_pred)\n",
    "    validation_accuracy = np.mean(y_val == y_val_pred)\n",
    "    \n",
    "    if validation_accuracy > best_val:\n",
    "        best_softmax = softmax\n",
    "        best_val = validation_accuracy\n",
    "        \n",
    "    results[(l_rate, r_strength)] = (training_accuracy, validation_accuracy)\n",
    "    \n",
    "################################################################################\n",
    "# TODO:                                                                        #\n",
    "# Use the validation set to set the learning rate and regularization strength. #\n",
    "# This should be identical to the validation that you did for the SVM; save    #\n",
    "# the best trained softmax classifer in best_softmax.                          #\n",
    "################################################################################\n",
    "\n",
    "################################################################################\n",
    "#                              END OF YOUR CODE                                #\n",
    "################################################################################\n",
    "    \n",
    "# Print out results.\n",
    "for lr, reg in sorted(results):\n",
    "    train_accuracy, val_accuracy = results[(lr, reg)]\n",
    "    print('lr %e reg %e train accuracy: %f val accuracy: %f' % (\n",
    "                lr, reg, train_accuracy, val_accuracy))\n",
    "    \n",
    "print('best validation accuracy achieved during cross-validation: %f' % best_val)"
   ]
  },
  {
   "cell_type": "code",
   "execution_count": 15,
   "metadata": {},
   "outputs": [
    {
     "name": "stdout",
     "output_type": "stream",
     "text": [
      "softmax on raw pixels final test set accuracy: 0.373000\n"
     ]
    }
   ],
   "source": [
    "# evaluate on test set\n",
    "# Evaluate the best softmax on test set\n",
    "y_test_pred = best_softmax.predict(X_test)\n",
    "test_accuracy = np.mean(y_test == y_test_pred)\n",
    "print('softmax on raw pixels final test set accuracy: %f' % (test_accuracy, ))"
   ]
  },
  {
   "cell_type": "code",
   "execution_count": 16,
   "metadata": {},
   "outputs": [
    {
     "data": {
      "image/png": "[encoded data removed]",
      "text/plain": [
       "<matplotlib.figure.Figure at 0x7f21551ecda0>"
      ]
     },
     "metadata": {},
     "output_type": "display_data"
    }
   ],
   "source": [
    "# Visualize the learned weights for each class\n",
    "w = best_softmax.W[:-1,:] # strip out the bias\n",
    "w = w.reshape(32, 32, 3, 10)\n",
    "\n",
    "w_min, w_max = np.min(w), np.max(w)\n",
    "\n",
    "classes = ['plane', 'car', 'bird', 'cat', 'deer', 'dog', 'frog', 'horse', 'ship', 'truck']\n",
    "for i in range(10):\n",
    "    plt.subplot(2, 5, i + 1)\n",
    "    \n",
    "    # Rescale the weights to be between 0 and 255\n",
    "    wimg = 255.0 * (w[:, :, :, i].squeeze() - w_min) / (w_max - w_min)\n",
    "    plt.imshow(wimg.astype('uint8'))\n",
    "    plt.axis('off')\n",
    "    plt.title(classes[i])"
   ]
  }
 ],
 "metadata": {
  "kernelspec": {
   "display_name": "Python 3",
   "language": "python",
   "name": "python3"
  },
  "language_info": {
   "codemirror_mode": {
    "name": "ipython",
    "version": 3
   },
   "file_extension": ".py",
   "mimetype": "text/x-python",
   "name": "python",
   "nbconvert_exporter": "python",
   "pygments_lexer": "ipython3",
   "version": "3.6.2"
  }
 },
 "nbformat": 4,
 "nbformat_minor": 1
}
