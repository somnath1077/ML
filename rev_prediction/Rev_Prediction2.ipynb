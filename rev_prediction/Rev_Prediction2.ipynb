{
 "cells": [
  {
   "cell_type": "code",
   "execution_count": 5,
   "metadata": {
    "collapsed": true
   },
   "outputs": [],
   "source": [
    "import pandas as pd\n",
    "import matplotlib.pyplot as plt\n",
    "\n",
    "data = pd.read_csv('./data/train.csv')"
   ]
  },
  {
   "cell_type": "code",
   "execution_count": 2,
   "metadata": {
    "collapsed": false
   },
   "outputs": [
    {
     "data": {
      "text/html": [
       "<div>\n",
       "<table border=\"1\" class=\"dataframe\">\n",
       "  <thead>\n",
       "    <tr style=\"text-align: right;\">\n",
       "      <th></th>\n",
       "      <th>Date</th>\n",
       "      <th>Keyword_ID</th>\n",
       "      <th>Ad_group_ID</th>\n",
       "      <th>Campaign_ID</th>\n",
       "      <th>Account_ID</th>\n",
       "      <th>Device_ID</th>\n",
       "      <th>Match_type_ID</th>\n",
       "      <th>Revenue</th>\n",
       "      <th>Clicks</th>\n",
       "      <th>Conversions</th>\n",
       "    </tr>\n",
       "  </thead>\n",
       "  <tbody>\n",
       "    <tr>\n",
       "      <th>0</th>\n",
       "      <td>2014-12-14</td>\n",
       "      <td>88883763407</td>\n",
       "      <td>1042143654876</td>\n",
       "      <td>71672332180</td>\n",
       "      <td>861287123742</td>\n",
       "      <td>298643508640</td>\n",
       "      <td>95725474456</td>\n",
       "      <td>0.0</td>\n",
       "      <td>2</td>\n",
       "      <td>0</td>\n",
       "    </tr>\n",
       "    <tr>\n",
       "      <th>1</th>\n",
       "      <td>2014-12-14</td>\n",
       "      <td>837336088038</td>\n",
       "      <td>1038839743255</td>\n",
       "      <td>685307833020</td>\n",
       "      <td>654870334100</td>\n",
       "      <td>298643508640</td>\n",
       "      <td>95725474456</td>\n",
       "      <td>0.0</td>\n",
       "      <td>2</td>\n",
       "      <td>0</td>\n",
       "    </tr>\n",
       "    <tr>\n",
       "      <th>2</th>\n",
       "      <td>2014-12-14</td>\n",
       "      <td>220115136780</td>\n",
       "      <td>691864063258</td>\n",
       "      <td>551279817203</td>\n",
       "      <td>212779990172</td>\n",
       "      <td>848779586902</td>\n",
       "      <td>95725474456</td>\n",
       "      <td>0.0</td>\n",
       "      <td>2</td>\n",
       "      <td>0</td>\n",
       "    </tr>\n",
       "    <tr>\n",
       "      <th>3</th>\n",
       "      <td>2014-12-14</td>\n",
       "      <td>423389776473</td>\n",
       "      <td>1044670215658</td>\n",
       "      <td>551279817203</td>\n",
       "      <td>212779990172</td>\n",
       "      <td>848779586902</td>\n",
       "      <td>95725474456</td>\n",
       "      <td>0.0</td>\n",
       "      <td>5</td>\n",
       "      <td>0</td>\n",
       "    </tr>\n",
       "    <tr>\n",
       "      <th>4</th>\n",
       "      <td>2014-12-14</td>\n",
       "      <td>546746671314</td>\n",
       "      <td>355072204358</td>\n",
       "      <td>919168440848</td>\n",
       "      <td>212779990172</td>\n",
       "      <td>298643508640</td>\n",
       "      <td>95725474456</td>\n",
       "      <td>0.0</td>\n",
       "      <td>2</td>\n",
       "      <td>0</td>\n",
       "    </tr>\n",
       "  </tbody>\n",
       "</table>\n",
       "</div>"
      ],
      "text/plain": [
       "         Date    Keyword_ID    Ad_group_ID   Campaign_ID    Account_ID  \\\n",
       "0  2014-12-14   88883763407  1042143654876   71672332180  861287123742   \n",
       "1  2014-12-14  837336088038  1038839743255  685307833020  654870334100   \n",
       "2  2014-12-14  220115136780   691864063258  551279817203  212779990172   \n",
       "3  2014-12-14  423389776473  1044670215658  551279817203  212779990172   \n",
       "4  2014-12-14  546746671314   355072204358  919168440848  212779990172   \n",
       "\n",
       "      Device_ID  Match_type_ID  Revenue  Clicks  Conversions  \n",
       "0  298643508640    95725474456      0.0       2            0  \n",
       "1  298643508640    95725474456      0.0       2            0  \n",
       "2  848779586902    95725474456      0.0       2            0  \n",
       "3  848779586902    95725474456      0.0       5            0  \n",
       "4  298643508640    95725474456      0.0       2            0  "
      ]
     },
     "execution_count": 2,
     "metadata": {},
     "output_type": "execute_result"
    }
   ],
   "source": [
    "data.head()"
   ]
  },
  {
   "cell_type": "code",
   "execution_count": 10,
   "metadata": {
    "collapsed": false
   },
   "outputs": [
    {
     "data": {
      "image/png": "[encoded data removed]",
      "text/plain": [
       "<matplotlib.figure.Figure at 0x7fa3629073c8>"
      ]
     },
     "metadata": {},
     "output_type": "display_data"
    }
   ],
   "source": [
    "input_cols=['Keyword_ID', 'Ad_group_ID', 'Campaign_ID', 'Account_ID', 'Match_type_ID']\n",
    "cor_mat = data[input_cols].corr()\n",
    "plt.imshow(cor_mat, cmap='gray', interpolation='nearest')\n",
    "plt.xticks(range(len(input_cols)),input_cols,rotation='vertical')\n",
    "plt.yticks(range(len(input_cols)),input_cols)\n",
    "plt.colorbar()\n",
    "plt.title('Correlation between variables')\n",
    "plt.show()"
   ]
  },
  {
   "cell_type": "code",
   "execution_count": 11,
   "metadata": {
    "collapsed": false
   },
   "outputs": [
    {
     "data": {
      "text/html": [
       "<div>\n",
       "<table border=\"1\" class=\"dataframe\">\n",
       "  <thead>\n",
       "    <tr style=\"text-align: right;\">\n",
       "      <th></th>\n",
       "      <th>Keyword_ID</th>\n",
       "      <th>Ad_group_ID</th>\n",
       "      <th>Campaign_ID</th>\n",
       "      <th>Account_ID</th>\n",
       "      <th>Match_type_ID</th>\n",
       "    </tr>\n",
       "  </thead>\n",
       "  <tbody>\n",
       "    <tr>\n",
       "      <th>Keyword_ID</th>\n",
       "      <td>1.000000</td>\n",
       "      <td>0.001031</td>\n",
       "      <td>-0.003141</td>\n",
       "      <td>-0.000845</td>\n",
       "      <td>0.001653</td>\n",
       "    </tr>\n",
       "    <tr>\n",
       "      <th>Ad_group_ID</th>\n",
       "      <td>0.001031</td>\n",
       "      <td>1.000000</td>\n",
       "      <td>-0.009558</td>\n",
       "      <td>-0.001932</td>\n",
       "      <td>-0.000629</td>\n",
       "    </tr>\n",
       "    <tr>\n",
       "      <th>Campaign_ID</th>\n",
       "      <td>-0.003141</td>\n",
       "      <td>-0.009558</td>\n",
       "      <td>1.000000</td>\n",
       "      <td>0.066178</td>\n",
       "      <td>-0.018656</td>\n",
       "    </tr>\n",
       "    <tr>\n",
       "      <th>Account_ID</th>\n",
       "      <td>-0.000845</td>\n",
       "      <td>-0.001932</td>\n",
       "      <td>0.066178</td>\n",
       "      <td>1.000000</td>\n",
       "      <td>0.011738</td>\n",
       "    </tr>\n",
       "    <tr>\n",
       "      <th>Match_type_ID</th>\n",
       "      <td>0.001653</td>\n",
       "      <td>-0.000629</td>\n",
       "      <td>-0.018656</td>\n",
       "      <td>0.011738</td>\n",
       "      <td>1.000000</td>\n",
       "    </tr>\n",
       "  </tbody>\n",
       "</table>\n",
       "</div>"
      ],
      "text/plain": [
       "               Keyword_ID  Ad_group_ID  Campaign_ID  Account_ID  Match_type_ID\n",
       "Keyword_ID       1.000000     0.001031    -0.003141   -0.000845       0.001653\n",
       "Ad_group_ID      0.001031     1.000000    -0.009558   -0.001932      -0.000629\n",
       "Campaign_ID     -0.003141    -0.009558     1.000000    0.066178      -0.018656\n",
       "Account_ID      -0.000845    -0.001932     0.066178    1.000000       0.011738\n",
       "Match_type_ID    0.001653    -0.000629    -0.018656    0.011738       1.000000"
      ]
     },
     "execution_count": 11,
     "metadata": {},
     "output_type": "execute_result"
    }
   ],
   "source": [
    "cor_mat"
   ]
  },
  {
   "cell_type": "code",
   "execution_count": 13,
   "metadata": {
    "collapsed": true
   },
   "outputs": [],
   "source": [
    "data_first_rows = data.head(n=100000)\n"
   ]
  },
  {
   "cell_type": "code",
   "execution_count": null,
   "metadata": {
    "collapsed": true
   },
   "outputs": [],
   "source": [
    "cols_to_transform = ['Keyword_ID', 'Ad_group_ID', 'Campaign_ID', 'Account_ID', 'Match_type_ID']\n",
    "df_numeric = pd.get_dummies(data_first_rows, columns=cols_to_transform)"
   ]
  }
 ],
 "metadata": {
  "kernelspec": {
   "display_name": "Python 3",
   "language": "python",
   "name": "python3"
  },
  "language_info": {
   "codemirror_mode": {
    "name": "ipython",
    "version": 3
   },
   "file_extension": ".py",
   "mimetype": "text/x-python",
   "name": "python",
   "nbconvert_exporter": "python",
   "pygments_lexer": "ipython3",
   "version": "3.5.2"
  }
 },
 "nbformat": 4,
 "nbformat_minor": 2
}
