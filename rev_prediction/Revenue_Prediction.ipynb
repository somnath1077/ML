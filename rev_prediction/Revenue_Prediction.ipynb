{
 "cells": [
  {
   "cell_type": "code",
   "execution_count": 31,
   "metadata": {
    "collapsed": false
   },
   "outputs": [],
   "source": [
    "import pandas as pd\n",
    "\n",
    "# Headers in training data file\n",
    "# 0. Date, 1. Keyword_ID, 2. Ad_group_ID, 3. Campaign_ID, 4. Account_ID,\n",
    "# 5. Device_ID, 6. Match_type_ID, 7. Revenue, 8. Clicks, 9. Conversions\n",
    "\n",
    "essential_input_cols=(1, 2, 4, 5, 6)\n",
    "output_cols=(7, 8)\n",
    "\n",
    "cols = essential_input_cols + output_cols\n",
    "input_file_path = './data/train.csv'\n",
    "\n",
    "X_y = pd.read_csv(input_file_path, sep=',', usecols=cols, nrows=100000)\n"
   ]
  },
  {
   "cell_type": "code",
   "execution_count": 45,
   "metadata": {
    "collapsed": true
   },
   "outputs": [],
   "source": [
    "X_categorical = X_y[[0, 1, 2, 3, 4]]"
   ]
  },
  {
   "cell_type": "code",
   "execution_count": 46,
   "metadata": {
    "collapsed": false
   },
   "outputs": [],
   "source": [
    "y = pd.DataFrame()\n",
    "\n",
    "y['Revenue_per_Click'] = X_y['Revenue'] / X_y['Clicks']"
   ]
  },
  {
   "cell_type": "code",
   "execution_count": 47,
   "metadata": {
    "collapsed": false
   },
   "outputs": [
    {
     "data": {
      "text/plain": [
       "False"
      ]
     },
     "execution_count": 47,
     "metadata": {},
     "output_type": "execute_result"
    }
   ],
   "source": [
    "y.isnull().values.any()"
   ]
  },
  {
   "cell_type": "code",
   "execution_count": 48,
   "metadata": {
    "collapsed": false
   },
   "outputs": [
    {
     "data": {
      "text/plain": [
       "False"
      ]
     },
     "execution_count": 48,
     "metadata": {},
     "output_type": "execute_result"
    }
   ],
   "source": [
    "X_categorical.isnull().values.any()"
   ]
  },
  {
   "cell_type": "code",
   "execution_count": 54,
   "metadata": {
    "collapsed": false
   },
   "outputs": [
    {
     "ename": "MemoryError",
     "evalue": "",
     "output_type": "error",
     "traceback": [
      "\u001b[0;31m---------------------------------------------------------------------------\u001b[0m",
      "\u001b[0;31mMemoryError\u001b[0m                               Traceback (most recent call last)",
      "\u001b[0;32m<ipython-input-54-f33d2f96e495>\u001b[0m in \u001b[0;36m<module>\u001b[0;34m()\u001b[0m\n\u001b[1;32m      2\u001b[0m \u001b[0mX_numeric\u001b[0m \u001b[0;34m=\u001b[0m \u001b[0mX_categorical\u001b[0m\u001b[0;34m\u001b[0m\u001b[0m\n\u001b[1;32m      3\u001b[0m \u001b[0;32mfor\u001b[0m \u001b[0mcol\u001b[0m \u001b[0;32min\u001b[0m \u001b[0mcolumns_to_transform\u001b[0m\u001b[0;34m:\u001b[0m\u001b[0;34m\u001b[0m\u001b[0m\n\u001b[0;32m----> 4\u001b[0;31m     \u001b[0mX_numeric\u001b[0m \u001b[0;34m=\u001b[0m \u001b[0mpd\u001b[0m\u001b[0;34m.\u001b[0m\u001b[0mget_dummies\u001b[0m\u001b[0;34m(\u001b[0m\u001b[0mX_numeric\u001b[0m\u001b[0;34m,\u001b[0m \u001b[0mcolumns\u001b[0m\u001b[0;34m=\u001b[0m\u001b[0;34m[\u001b[0m\u001b[0mcol\u001b[0m\u001b[0;34m]\u001b[0m\u001b[0;34m)\u001b[0m\u001b[0;34m\u001b[0m\u001b[0m\n\u001b[0m",
      "\u001b[0;32m/usr/local/lib/python3.5/dist-packages/pandas/core/reshape.py\u001b[0m in \u001b[0;36mget_dummies\u001b[0;34m(data, prefix, prefix_sep, dummy_na, columns, sparse, drop_first)\u001b[0m\n\u001b[1;32m   1097\u001b[0m                                     drop_first=drop_first)\n\u001b[1;32m   1098\u001b[0m             \u001b[0mwith_dummies\u001b[0m\u001b[0;34m.\u001b[0m\u001b[0mappend\u001b[0m\u001b[0;34m(\u001b[0m\u001b[0mdummy\u001b[0m\u001b[0;34m)\u001b[0m\u001b[0;34m\u001b[0m\u001b[0m\n\u001b[0;32m-> 1099\u001b[0;31m         \u001b[0mresult\u001b[0m \u001b[0;34m=\u001b[0m \u001b[0mconcat\u001b[0m\u001b[0;34m(\u001b[0m\u001b[0mwith_dummies\u001b[0m\u001b[0;34m,\u001b[0m \u001b[0maxis\u001b[0m\u001b[0;34m=\u001b[0m\u001b[0;36m1\u001b[0m\u001b[0;34m)\u001b[0m\u001b[0;34m\u001b[0m\u001b[0m\n\u001b[0m\u001b[1;32m   1100\u001b[0m     \u001b[0;32melse\u001b[0m\u001b[0;34m:\u001b[0m\u001b[0;34m\u001b[0m\u001b[0m\n\u001b[1;32m   1101\u001b[0m         result = _get_dummies_1d(data, prefix, prefix_sep, dummy_na,\n",
      "\u001b[0;32m/usr/local/lib/python3.5/dist-packages/pandas/tools/merge.py\u001b[0m in \u001b[0;36mconcat\u001b[0;34m(objs, axis, join, join_axes, ignore_index, keys, levels, names, verify_integrity, copy)\u001b[0m\n\u001b[1;32m   1333\u001b[0m                        \u001b[0mverify_integrity\u001b[0m\u001b[0;34m=\u001b[0m\u001b[0mverify_integrity\u001b[0m\u001b[0;34m,\u001b[0m\u001b[0;34m\u001b[0m\u001b[0m\n\u001b[1;32m   1334\u001b[0m                        copy=copy)\n\u001b[0;32m-> 1335\u001b[0;31m     \u001b[0;32mreturn\u001b[0m \u001b[0mop\u001b[0m\u001b[0;34m.\u001b[0m\u001b[0mget_result\u001b[0m\u001b[0;34m(\u001b[0m\u001b[0;34m)\u001b[0m\u001b[0;34m\u001b[0m\u001b[0m\n\u001b[0m\u001b[1;32m   1336\u001b[0m \u001b[0;34m\u001b[0m\u001b[0m\n\u001b[1;32m   1337\u001b[0m \u001b[0;34m\u001b[0m\u001b[0m\n",
      "\u001b[0;32m/usr/local/lib/python3.5/dist-packages/pandas/tools/merge.py\u001b[0m in \u001b[0;36mget_result\u001b[0;34m(self)\u001b[0m\n\u001b[1;32m   1531\u001b[0m             new_data = concatenate_block_managers(\n\u001b[1;32m   1532\u001b[0m                 \u001b[0mmgrs_indexers\u001b[0m\u001b[0;34m,\u001b[0m \u001b[0mself\u001b[0m\u001b[0;34m.\u001b[0m\u001b[0mnew_axes\u001b[0m\u001b[0;34m,\u001b[0m \u001b[0mconcat_axis\u001b[0m\u001b[0;34m=\u001b[0m\u001b[0mself\u001b[0m\u001b[0;34m.\u001b[0m\u001b[0maxis\u001b[0m\u001b[0;34m,\u001b[0m\u001b[0;34m\u001b[0m\u001b[0m\n\u001b[0;32m-> 1533\u001b[0;31m                 copy=self.copy)\n\u001b[0m\u001b[1;32m   1534\u001b[0m             \u001b[0;32mif\u001b[0m \u001b[0;32mnot\u001b[0m \u001b[0mself\u001b[0m\u001b[0;34m.\u001b[0m\u001b[0mcopy\u001b[0m\u001b[0;34m:\u001b[0m\u001b[0;34m\u001b[0m\u001b[0m\n\u001b[1;32m   1535\u001b[0m                 \u001b[0mnew_data\u001b[0m\u001b[0;34m.\u001b[0m\u001b[0m_consolidate_inplace\u001b[0m\u001b[0;34m(\u001b[0m\u001b[0;34m)\u001b[0m\u001b[0;34m\u001b[0m\u001b[0m\n",
      "\u001b[0;32m/usr/local/lib/python3.5/dist-packages/pandas/core/internals.py\u001b[0m in \u001b[0;36mconcatenate_block_managers\u001b[0;34m(mgrs_indexers, axes, concat_axis, copy)\u001b[0m\n\u001b[1;32m   4816\u001b[0m     blocks = [make_block(\n\u001b[1;32m   4817\u001b[0m         \u001b[0mconcatenate_join_units\u001b[0m\u001b[0;34m(\u001b[0m\u001b[0mjoin_units\u001b[0m\u001b[0;34m,\u001b[0m \u001b[0mconcat_axis\u001b[0m\u001b[0;34m,\u001b[0m \u001b[0mcopy\u001b[0m\u001b[0;34m=\u001b[0m\u001b[0mcopy\u001b[0m\u001b[0;34m)\u001b[0m\u001b[0;34m,\u001b[0m\u001b[0;34m\u001b[0m\u001b[0m\n\u001b[0;32m-> 4818\u001b[0;31m         placement=placement) for placement, join_units in concat_plan]\n\u001b[0m\u001b[1;32m   4819\u001b[0m \u001b[0;34m\u001b[0m\u001b[0m\n\u001b[1;32m   4820\u001b[0m     \u001b[0;32mreturn\u001b[0m \u001b[0mBlockManager\u001b[0m\u001b[0;34m(\u001b[0m\u001b[0mblocks\u001b[0m\u001b[0;34m,\u001b[0m \u001b[0maxes\u001b[0m\u001b[0;34m)\u001b[0m\u001b[0;34m\u001b[0m\u001b[0m\n",
      "\u001b[0;32m/usr/local/lib/python3.5/dist-packages/pandas/core/internals.py\u001b[0m in \u001b[0;36m<listcomp>\u001b[0;34m(.0)\u001b[0m\n\u001b[1;32m   4816\u001b[0m     blocks = [make_block(\n\u001b[1;32m   4817\u001b[0m         \u001b[0mconcatenate_join_units\u001b[0m\u001b[0;34m(\u001b[0m\u001b[0mjoin_units\u001b[0m\u001b[0;34m,\u001b[0m \u001b[0mconcat_axis\u001b[0m\u001b[0;34m,\u001b[0m \u001b[0mcopy\u001b[0m\u001b[0;34m=\u001b[0m\u001b[0mcopy\u001b[0m\u001b[0;34m)\u001b[0m\u001b[0;34m,\u001b[0m\u001b[0;34m\u001b[0m\u001b[0m\n\u001b[0;32m-> 4818\u001b[0;31m         placement=placement) for placement, join_units in concat_plan]\n\u001b[0m\u001b[1;32m   4819\u001b[0m \u001b[0;34m\u001b[0m\u001b[0m\n\u001b[1;32m   4820\u001b[0m     \u001b[0;32mreturn\u001b[0m \u001b[0mBlockManager\u001b[0m\u001b[0;34m(\u001b[0m\u001b[0mblocks\u001b[0m\u001b[0;34m,\u001b[0m \u001b[0maxes\u001b[0m\u001b[0;34m)\u001b[0m\u001b[0;34m\u001b[0m\u001b[0m\n",
      "\u001b[0;32m/usr/local/lib/python3.5/dist-packages/pandas/core/internals.py\u001b[0m in \u001b[0;36mconcatenate_join_units\u001b[0;34m(join_units, concat_axis, copy)\u001b[0m\n\u001b[1;32m   4919\u001b[0m         \u001b[0mconcat_values\u001b[0m \u001b[0;34m=\u001b[0m \u001b[0mto_concat\u001b[0m\u001b[0;34m[\u001b[0m\u001b[0;36m0\u001b[0m\u001b[0;34m]\u001b[0m\u001b[0;34m\u001b[0m\u001b[0m\n\u001b[1;32m   4920\u001b[0m         \u001b[0;32mif\u001b[0m \u001b[0mcopy\u001b[0m \u001b[0;32mand\u001b[0m \u001b[0mconcat_values\u001b[0m\u001b[0;34m.\u001b[0m\u001b[0mbase\u001b[0m \u001b[0;32mis\u001b[0m \u001b[0;32mnot\u001b[0m \u001b[0;32mNone\u001b[0m\u001b[0;34m:\u001b[0m\u001b[0;34m\u001b[0m\u001b[0m\n\u001b[0;32m-> 4921\u001b[0;31m             \u001b[0mconcat_values\u001b[0m \u001b[0;34m=\u001b[0m \u001b[0mconcat_values\u001b[0m\u001b[0;34m.\u001b[0m\u001b[0mcopy\u001b[0m\u001b[0;34m(\u001b[0m\u001b[0;34m)\u001b[0m\u001b[0;34m\u001b[0m\u001b[0m\n\u001b[0m\u001b[1;32m   4922\u001b[0m     \u001b[0;32melse\u001b[0m\u001b[0;34m:\u001b[0m\u001b[0;34m\u001b[0m\u001b[0m\n\u001b[1;32m   4923\u001b[0m         \u001b[0mconcat_values\u001b[0m \u001b[0;34m=\u001b[0m \u001b[0m_concat\u001b[0m\u001b[0;34m.\u001b[0m\u001b[0m_concat_compat\u001b[0m\u001b[0;34m(\u001b[0m\u001b[0mto_concat\u001b[0m\u001b[0;34m,\u001b[0m \u001b[0maxis\u001b[0m\u001b[0;34m=\u001b[0m\u001b[0mconcat_axis\u001b[0m\u001b[0;34m)\u001b[0m\u001b[0;34m\u001b[0m\u001b[0m\n",
      "\u001b[0;31mMemoryError\u001b[0m: "
     ]
    }
   ],
   "source": [
    "columns_to_transform = ['Keyword_ID', 'Ad_group_ID', 'Account_ID', 'Device_ID', 'Match_type_ID']\n",
    "X_numeric = X_categorical\n",
    "for col in columns_to_transform:\n",
    "    X_numeric = pd.get_dummies(X_numeric, columns=[col])\n"
   ]
  },
  {
   "cell_type": "code",
   "execution_count": 10,
   "metadata": {
    "collapsed": true
   },
   "outputs": [],
   "source": [
    "from sklearn.model_selection import train_test_split\n",
    "from sklearn import linear_model\n",
    "import numpy as np\n",
    "\n",
    "error_rates = []\n",
    "for i in range(100): \n",
    "    X_train, X_test, y_train, y_test = train_test_split(X_numeric, y, test_size=0.33, random_state=i)\n",
    "    regression_model = linear_model.LinearRegression()\n",
    "    regression_model.fit(X_train, y_train)\n",
    "    prediction = regression_model.predict(X_test)\n",
    "    error_rates.append(np.mean((prediction - y_test) ** 2))"
   ]
  },
  {
   "cell_type": "code",
   "execution_count": 9,
   "metadata": {
    "collapsed": false
   },
   "outputs": [
    {
     "name": "stdout",
     "output_type": "stream",
     "text": [
      "[Revenue_per_Click    489394.887301\n",
      "dtype: float64, Revenue_per_Click    489394.887301\n",
      "dtype: float64, Revenue_per_Click    489394.887301\n",
      "dtype: float64, Revenue_per_Click    489394.887301\n",
      "dtype: float64, Revenue_per_Click    489394.887301\n",
      "dtype: float64, Revenue_per_Click    489394.887301\n",
      "dtype: float64, Revenue_per_Click    489394.887301\n",
      "dtype: float64, Revenue_per_Click    489394.887301\n",
      "dtype: float64, Revenue_per_Click    489394.887301\n",
      "dtype: float64, Revenue_per_Click    489394.887301\n",
      "dtype: float64, Revenue_per_Click    489394.887301\n",
      "dtype: float64, Revenue_per_Click    489394.887301\n",
      "dtype: float64, Revenue_per_Click    489394.887301\n",
      "dtype: float64, Revenue_per_Click    489394.887301\n",
      "dtype: float64, Revenue_per_Click    489394.887301\n",
      "dtype: float64, Revenue_per_Click    489394.887301\n",
      "dtype: float64, Revenue_per_Click    489394.887301\n",
      "dtype: float64, Revenue_per_Click    489394.887301\n",
      "dtype: float64, Revenue_per_Click    489394.887301\n",
      "dtype: float64, Revenue_per_Click    489394.887301\n",
      "dtype: float64, Revenue_per_Click    489394.887301\n",
      "dtype: float64, Revenue_per_Click    489394.887301\n",
      "dtype: float64, Revenue_per_Click    489394.887301\n",
      "dtype: float64, Revenue_per_Click    489394.887301\n",
      "dtype: float64, Revenue_per_Click    489394.887301\n",
      "dtype: float64, Revenue_per_Click    489394.887301\n",
      "dtype: float64, Revenue_per_Click    489394.887301\n",
      "dtype: float64, Revenue_per_Click    489394.887301\n",
      "dtype: float64, Revenue_per_Click    489394.887301\n",
      "dtype: float64, Revenue_per_Click    489394.887301\n",
      "dtype: float64, Revenue_per_Click    489394.887301\n",
      "dtype: float64, Revenue_per_Click    489394.887301\n",
      "dtype: float64, Revenue_per_Click    489394.887301\n",
      "dtype: float64, Revenue_per_Click    489394.887301\n",
      "dtype: float64, Revenue_per_Click    489394.887301\n",
      "dtype: float64, Revenue_per_Click    489394.887301\n",
      "dtype: float64, Revenue_per_Click    489394.887301\n",
      "dtype: float64, Revenue_per_Click    489394.887301\n",
      "dtype: float64, Revenue_per_Click    489394.887301\n",
      "dtype: float64, Revenue_per_Click    489394.887301\n",
      "dtype: float64, Revenue_per_Click    489394.887301\n",
      "dtype: float64, Revenue_per_Click    489394.887301\n",
      "dtype: float64, Revenue_per_Click    489394.887301\n",
      "dtype: float64, Revenue_per_Click    489394.887301\n",
      "dtype: float64, Revenue_per_Click    489394.887301\n",
      "dtype: float64, Revenue_per_Click    489394.887301\n",
      "dtype: float64, Revenue_per_Click    489394.887301\n",
      "dtype: float64, Revenue_per_Click    489394.887301\n",
      "dtype: float64, Revenue_per_Click    489394.887301\n",
      "dtype: float64, Revenue_per_Click    489394.887301\n",
      "dtype: float64, Revenue_per_Click    489394.887301\n",
      "dtype: float64, Revenue_per_Click    489394.887301\n",
      "dtype: float64, Revenue_per_Click    489394.887301\n",
      "dtype: float64, Revenue_per_Click    489394.887301\n",
      "dtype: float64, Revenue_per_Click    489394.887301\n",
      "dtype: float64, Revenue_per_Click    489394.887301\n",
      "dtype: float64, Revenue_per_Click    489394.887301\n",
      "dtype: float64, Revenue_per_Click    489394.887301\n",
      "dtype: float64, Revenue_per_Click    489394.887301\n",
      "dtype: float64, Revenue_per_Click    489394.887301\n",
      "dtype: float64, Revenue_per_Click    489394.887301\n",
      "dtype: float64, Revenue_per_Click    489394.887301\n",
      "dtype: float64, Revenue_per_Click    489394.887301\n",
      "dtype: float64, Revenue_per_Click    489394.887301\n",
      "dtype: float64, Revenue_per_Click    489394.887301\n",
      "dtype: float64, Revenue_per_Click    489394.887301\n",
      "dtype: float64, Revenue_per_Click    489394.887301\n",
      "dtype: float64, Revenue_per_Click    489394.887301\n",
      "dtype: float64, Revenue_per_Click    489394.887301\n",
      "dtype: float64, Revenue_per_Click    489394.887301\n",
      "dtype: float64, Revenue_per_Click    489394.887301\n",
      "dtype: float64, Revenue_per_Click    489394.887301\n",
      "dtype: float64, Revenue_per_Click    489394.887301\n",
      "dtype: float64, Revenue_per_Click    489394.887301\n",
      "dtype: float64, Revenue_per_Click    489394.887301\n",
      "dtype: float64, Revenue_per_Click    489394.887301\n",
      "dtype: float64, Revenue_per_Click    489394.887301\n",
      "dtype: float64, Revenue_per_Click    489394.887301\n",
      "dtype: float64, Revenue_per_Click    489394.887301\n",
      "dtype: float64, Revenue_per_Click    489394.887301\n",
      "dtype: float64, Revenue_per_Click    489394.887301\n",
      "dtype: float64, Revenue_per_Click    489394.887301\n",
      "dtype: float64, Revenue_per_Click    489394.887301\n",
      "dtype: float64, Revenue_per_Click    489394.887301\n",
      "dtype: float64, Revenue_per_Click    489394.887301\n",
      "dtype: float64, Revenue_per_Click    489394.887301\n",
      "dtype: float64, Revenue_per_Click    489394.887301\n",
      "dtype: float64, Revenue_per_Click    489394.887301\n",
      "dtype: float64, Revenue_per_Click    489394.887301\n",
      "dtype: float64, Revenue_per_Click    489394.887301\n",
      "dtype: float64, Revenue_per_Click    489394.887301\n",
      "dtype: float64, Revenue_per_Click    489394.887301\n",
      "dtype: float64, Revenue_per_Click    489394.887301\n",
      "dtype: float64, Revenue_per_Click    489394.887301\n",
      "dtype: float64, Revenue_per_Click    489394.887301\n",
      "dtype: float64, Revenue_per_Click    489394.887301\n",
      "dtype: float64, Revenue_per_Click    489394.887301\n",
      "dtype: float64, Revenue_per_Click    489394.887301\n",
      "dtype: float64, Revenue_per_Click    489394.887301\n",
      "dtype: float64, Revenue_per_Click    489394.887301\n",
      "dtype: float64]\n"
     ]
    }
   ],
   "source": [
    "print(error_rates)"
   ]
  }
 ],
 "metadata": {
  "kernelspec": {
   "display_name": "Python 3",
   "language": "python",
   "name": "python3"
  },
  "language_info": {
   "codemirror_mode": {
    "name": "ipython",
    "version": 3
   },
   "file_extension": ".py",
   "mimetype": "text/x-python",
   "name": "python",
   "nbconvert_exporter": "python",
   "pygments_lexer": "ipython3",
   "version": "3.5.2"
  }
 },
 "nbformat": 4,
 "nbformat_minor": 2
}
