{
 "cells": [
  {
   "cell_type": "code",
   "execution_count": 1,
   "metadata": {
    "collapsed": true
   },
   "outputs": [],
   "source": [
    "import pandas as pd\n",
    "\n",
    "# Headers in training data file\n",
    "# 0. Date, 1. Keyword_ID, 2. Ad_group_ID, 3. Campaign_ID, 4. Account_ID,\n",
    "# 5. Device_ID, 6. Match_type_ID, 7. Revenue, 8. Clicks, 9. Conversions\n",
    "\n",
    "essential_input_cols=(1, 2, 4, 5, 6)\n",
    "output_cols=(7, 8)\n",
    "\n",
    "cols = essential_input_cols + output_cols\n",
    "input_file_path = './data/train.csv'\n",
    "\n",
    "X_y = pd.read_csv(input_file_path, sep=',', usecols=cols)\n"
   ]
  },
  {
   "cell_type": "code",
   "execution_count": 5,
   "metadata": {
    "collapsed": true
   },
   "outputs": [],
   "source": [
    "X_categorical = X_y[[0, 1, 2, 3, 4]]"
   ]
  },
  {
   "cell_type": "code",
   "execution_count": 15,
   "metadata": {
    "collapsed": false
   },
   "outputs": [],
   "source": [
    "y = pd.DataFrame()\n",
    "\n",
    "y['Revenue_per_Click'] = X_y['Revenue'] / X_y['Clicks']"
   ]
  },
  {
   "cell_type": "code",
   "execution_count": 17,
   "metadata": {
    "collapsed": false
   },
   "outputs": [
    {
     "data": {
      "text/plain": [
       "False"
      ]
     },
     "execution_count": 17,
     "metadata": {},
     "output_type": "execute_result"
    }
   ],
   "source": [
    "y.isnull().values.any()"
   ]
  },
  {
   "cell_type": "code",
   "execution_count": 18,
   "metadata": {
    "collapsed": false
   },
   "outputs": [
    {
     "data": {
      "text/plain": [
       "False"
      ]
     },
     "execution_count": 18,
     "metadata": {},
     "output_type": "execute_result"
    }
   ],
   "source": [
    "X_categorical.isnull().values.any()"
   ]
  },
  {
   "cell_type": "code",
   "execution_count": 37,
   "metadata": {
    "collapsed": false
   },
   "outputs": [
    {
     "name": "stdout",
     "output_type": "stream",
     "text": [
      "(8285423, 5)\n"
     ]
    }
   ],
   "source": [
    "X_numeric = pd.get_dummies(X_categorical)\n",
    "print(X_numeric.shape)"
   ]
  },
  {
   "cell_type": "code",
   "execution_count": 35,
   "metadata": {
    "collapsed": true
   },
   "outputs": [],
   "source": [
    "from sklearn.model_selection import train_test_split\n",
    "from sklearn import linear_model\n",
    "import numpy as np\n",
    "\n",
    "error_rates = []\n",
    "for _ in range(100): \n",
    "    X_train, X_test, y_train, y_test = train_test_split(X_numeric, y, test_size=0.33, random_state=42)\n",
    "    regression_model = linear_model.LinearRegression()\n",
    "    regression_model.fit(X_train, y_train)\n",
    "    prediction = regression_model.predict(X_test)\n",
    "    error_rates.append(np.mean((prediction - y_test) ** 2))"
   ]
  },
  {
   "cell_type": "code",
   "execution_count": 36,
   "metadata": {
    "collapsed": false
   },
   "outputs": [
    {
     "data": {
      "text/plain": [
       "[Revenue_per_Click    489394.887301\n",
       " dtype: float64, Revenue_per_Click    489394.887301\n",
       " dtype: float64, Revenue_per_Click    489394.887301\n",
       " dtype: float64, Revenue_per_Click    489394.887301\n",
       " dtype: float64, Revenue_per_Click    489394.887301\n",
       " dtype: float64, Revenue_per_Click    489394.887301\n",
       " dtype: float64, Revenue_per_Click    489394.887301\n",
       " dtype: float64, Revenue_per_Click    489394.887301\n",
       " dtype: float64, Revenue_per_Click    489394.887301\n",
       " dtype: float64, Revenue_per_Click    489394.887301\n",
       " dtype: float64, Revenue_per_Click    489394.887301\n",
       " dtype: float64, Revenue_per_Click    489394.887301\n",
       " dtype: float64, Revenue_per_Click    489394.887301\n",
       " dtype: float64, Revenue_per_Click    489394.887301\n",
       " dtype: float64, Revenue_per_Click    489394.887301\n",
       " dtype: float64, Revenue_per_Click    489394.887301\n",
       " dtype: float64, Revenue_per_Click    489394.887301\n",
       " dtype: float64, Revenue_per_Click    489394.887301\n",
       " dtype: float64, Revenue_per_Click    489394.887301\n",
       " dtype: float64, Revenue_per_Click    489394.887301\n",
       " dtype: float64, Revenue_per_Click    489394.887301\n",
       " dtype: float64, Revenue_per_Click    489394.887301\n",
       " dtype: float64, Revenue_per_Click    489394.887301\n",
       " dtype: float64, Revenue_per_Click    489394.887301\n",
       " dtype: float64, Revenue_per_Click    489394.887301\n",
       " dtype: float64, Revenue_per_Click    489394.887301\n",
       " dtype: float64, Revenue_per_Click    489394.887301\n",
       " dtype: float64, Revenue_per_Click    489394.887301\n",
       " dtype: float64, Revenue_per_Click    489394.887301\n",
       " dtype: float64, Revenue_per_Click    489394.887301\n",
       " dtype: float64, Revenue_per_Click    489394.887301\n",
       " dtype: float64, Revenue_per_Click    489394.887301\n",
       " dtype: float64, Revenue_per_Click    489394.887301\n",
       " dtype: float64, Revenue_per_Click    489394.887301\n",
       " dtype: float64, Revenue_per_Click    489394.887301\n",
       " dtype: float64, Revenue_per_Click    489394.887301\n",
       " dtype: float64, Revenue_per_Click    489394.887301\n",
       " dtype: float64, Revenue_per_Click    489394.887301\n",
       " dtype: float64, Revenue_per_Click    489394.887301\n",
       " dtype: float64, Revenue_per_Click    489394.887301\n",
       " dtype: float64, Revenue_per_Click    489394.887301\n",
       " dtype: float64, Revenue_per_Click    489394.887301\n",
       " dtype: float64, Revenue_per_Click    489394.887301\n",
       " dtype: float64, Revenue_per_Click    489394.887301\n",
       " dtype: float64, Revenue_per_Click    489394.887301\n",
       " dtype: float64, Revenue_per_Click    489394.887301\n",
       " dtype: float64, Revenue_per_Click    489394.887301\n",
       " dtype: float64, Revenue_per_Click    489394.887301\n",
       " dtype: float64, Revenue_per_Click    489394.887301\n",
       " dtype: float64, Revenue_per_Click    489394.887301\n",
       " dtype: float64, Revenue_per_Click    489394.887301\n",
       " dtype: float64, Revenue_per_Click    489394.887301\n",
       " dtype: float64, Revenue_per_Click    489394.887301\n",
       " dtype: float64, Revenue_per_Click    489394.887301\n",
       " dtype: float64, Revenue_per_Click    489394.887301\n",
       " dtype: float64, Revenue_per_Click    489394.887301\n",
       " dtype: float64, Revenue_per_Click    489394.887301\n",
       " dtype: float64, Revenue_per_Click    489394.887301\n",
       " dtype: float64, Revenue_per_Click    489394.887301\n",
       " dtype: float64, Revenue_per_Click    489394.887301\n",
       " dtype: float64, Revenue_per_Click    489394.887301\n",
       " dtype: float64, Revenue_per_Click    489394.887301\n",
       " dtype: float64, Revenue_per_Click    489394.887301\n",
       " dtype: float64, Revenue_per_Click    489394.887301\n",
       " dtype: float64, Revenue_per_Click    489394.887301\n",
       " dtype: float64, Revenue_per_Click    489394.887301\n",
       " dtype: float64, Revenue_per_Click    489394.887301\n",
       " dtype: float64, Revenue_per_Click    489394.887301\n",
       " dtype: float64, Revenue_per_Click    489394.887301\n",
       " dtype: float64, Revenue_per_Click    489394.887301\n",
       " dtype: float64, Revenue_per_Click    489394.887301\n",
       " dtype: float64, Revenue_per_Click    489394.887301\n",
       " dtype: float64, Revenue_per_Click    489394.887301\n",
       " dtype: float64, Revenue_per_Click    489394.887301\n",
       " dtype: float64, Revenue_per_Click    489394.887301\n",
       " dtype: float64, Revenue_per_Click    489394.887301\n",
       " dtype: float64, Revenue_per_Click    489394.887301\n",
       " dtype: float64, Revenue_per_Click    489394.887301\n",
       " dtype: float64, Revenue_per_Click    489394.887301\n",
       " dtype: float64, Revenue_per_Click    489394.887301\n",
       " dtype: float64, Revenue_per_Click    489394.887301\n",
       " dtype: float64, Revenue_per_Click    489394.887301\n",
       " dtype: float64, Revenue_per_Click    489394.887301\n",
       " dtype: float64, Revenue_per_Click    489394.887301\n",
       " dtype: float64, Revenue_per_Click    489394.887301\n",
       " dtype: float64, Revenue_per_Click    489394.887301\n",
       " dtype: float64, Revenue_per_Click    489394.887301\n",
       " dtype: float64, Revenue_per_Click    489394.887301\n",
       " dtype: float64, Revenue_per_Click    489394.887301\n",
       " dtype: float64, Revenue_per_Click    489394.887301\n",
       " dtype: float64, Revenue_per_Click    489394.887301\n",
       " dtype: float64, Revenue_per_Click    489394.887301\n",
       " dtype: float64, Revenue_per_Click    489394.887301\n",
       " dtype: float64, Revenue_per_Click    489394.887301\n",
       " dtype: float64, Revenue_per_Click    489394.887301\n",
       " dtype: float64, Revenue_per_Click    489394.887301\n",
       " dtype: float64, Revenue_per_Click    489394.887301\n",
       " dtype: float64, Revenue_per_Click    489394.887301\n",
       " dtype: float64, Revenue_per_Click    489394.887301\n",
       " dtype: float64, Revenue_per_Click    489394.887301\n",
       " dtype: float64]"
      ]
     },
     "execution_count": 36,
     "metadata": {},
     "output_type": "execute_result"
    }
   ],
   "source": [
    "error_rates"
   ]
  }
 ],
 "metadata": {
  "kernelspec": {
   "display_name": "Python 3",
   "language": "python",
   "name": "python3"
  },
  "language_info": {
   "codemirror_mode": {
    "name": "ipython",
    "version": 3
   },
   "file_extension": ".py",
   "mimetype": "text/x-python",
   "name": "python",
   "nbconvert_exporter": "python",
   "pygments_lexer": "ipython3",
   "version": "3.5.2"
  }
 },
 "nbformat": 4,
 "nbformat_minor": 2
}
