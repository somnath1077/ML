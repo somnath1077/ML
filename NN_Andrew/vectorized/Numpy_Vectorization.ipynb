{
 "cells": [
  {
   "cell_type": "code",
   "execution_count": 1,
   "metadata": {},
   "outputs": [],
   "source": [
    "import numpy as np\n",
    "import random\n",
    "import time"
   ]
  },
  {
   "cell_type": "code",
   "execution_count": 2,
   "metadata": {},
   "outputs": [],
   "source": [
    "# z = w.T * x + b\n",
    "# a = sigmoid(z)\n",
    "# X = [x(1), ... , x(n)], where x(i) is a column vector of dimension d representing the ith data point. \n",
    "# X.shape = (d, n)\n",
    "# W = [w1, ... , wd]\n",
    "# Z = np.dot(W, X) + b\n",
    "# A = sigmoid(Z)\n",
    "# Y = [y(1), ..., y(n)], the n labels \n",
    "# dZ = A - Y\n",
    "# db = np.sum(dZ) / m\n",
    "# dW = np.dot(X, dZ.T) / m\n",
    "# W -= alpha * dW\n",
    "# b -= b * db"
   ]
  },
  {
   "cell_type": "code",
   "execution_count": 3,
   "metadata": {},
   "outputs": [],
   "source": [
    "def sigmoid(z):\n",
    "    return 1.0 / (1 + np.exp(-z))"
   ]
  }
 ],
 "metadata": {
  "kernelspec": {
   "display_name": "Python 3",
   "language": "python",
   "name": "python3"
  },
  "language_info": {
   "codemirror_mode": {
    "name": "ipython",
    "version": 3
   },
   "file_extension": ".py",
   "mimetype": "text/x-python",
   "name": "python",
   "nbconvert_exporter": "python",
   "pygments_lexer": "ipython3",
   "version": "3.6.2"
  }
 },
 "nbformat": 4,
 "nbformat_minor": 2
}
