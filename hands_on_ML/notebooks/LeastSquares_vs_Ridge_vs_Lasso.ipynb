{
 "cells": [
  {
   "cell_type": "code",
   "execution_count": 1,
   "metadata": {},
   "outputs": [],
   "source": [
    "import pandas as pd\n",
    "import numpy as np\n",
    "\n",
    "from sklearn.preprocessing import scale\n",
    "from sklearn.preprocessing import normalize\n",
    "from sklearn.linear_model import LinearRegression\n",
    "from sklearn.linear_model import Lasso\n",
    "from sklearn.linear_model import Ridge"
   ]
  },
  {
   "cell_type": "markdown",
   "metadata": {},
   "source": [
    "# Preparing Data"
   ]
  },
  {
   "cell_type": "code",
   "execution_count": 2,
   "metadata": {},
   "outputs": [],
   "source": [
    "SAMPLE_SIZE = 50\n",
    "NUM_PREDICTORS = 20\n",
    "NOISE_VAR = 16\n",
    "\n",
    "X = np.random.rand(SAMPLE_SIZE, NUM_PREDICTORS)\n",
    "X_scaled = scale(X, axis=0)\n",
    "X_norm = normalize(X, norm='l2', axis=0)"
   ]
  },
  {
   "cell_type": "code",
   "execution_count": 3,
   "metadata": {},
   "outputs": [],
   "source": [
    "y = (10 * X[:, 0] + 5 * X[:, 1] + 0.1 * X[:, 2] + \n",
    "     np.random.normal(loc=0, scale=NOISE_VAR, size=1)).reshape(SAMPLE_SIZE,1)\n",
    "y_scaled = scale(y, axis=0)\n",
    "y_norm = normalize(y, norm='l2', axis=0)"
   ]
  },
  {
   "cell_type": "markdown",
   "metadata": {},
   "source": [
    "# Least Squares Linear Regression"
   ]
  },
  {
   "cell_type": "code",
   "execution_count": 4,
   "metadata": {},
   "outputs": [
    {
     "data": {
      "text/plain": [
       "LinearRegression(copy_X=True, fit_intercept=True, n_jobs=1, normalize=True)"
      ]
     },
     "execution_count": 4,
     "metadata": {},
     "output_type": "execute_result"
    }
   ],
   "source": [
    "clf = LinearRegression(normalize=True)\n",
    "clf.fit(X, y)"
   ]
  },
  {
   "cell_type": "code",
   "execution_count": 5,
   "metadata": {},
   "outputs": [
    {
     "data": {
      "text/plain": [
       "array([[  1.00000000e+01,   5.00000000e+00,   1.00000000e-01,\n",
       "          4.42340545e-15,   2.21859907e-15,  -2.03732261e-15,\n",
       "          7.16308038e-16,   1.85979654e-15,  -1.70935480e-15,\n",
       "         -7.75076042e-16,   3.25909205e-15,  -1.86164149e-15,\n",
       "          2.83106617e-15,   1.33201933e-15,  -2.05567253e-15,\n",
       "          4.03520185e-15,   5.95150385e-16,  -7.43505596e-16,\n",
       "         -7.44394084e-15,   1.69944529e-15]])"
      ]
     },
     "execution_count": 5,
     "metadata": {},
     "output_type": "execute_result"
    }
   ],
   "source": [
    "clf.coef_"
   ]
  },
  {
   "cell_type": "markdown",
   "metadata": {},
   "source": [
    "# Lasso"
   ]
  },
  {
   "cell_type": "code",
   "execution_count": 6,
   "metadata": {},
   "outputs": [],
   "source": [
    "def lasso(alpha, X, y, normalize=True):\n",
    "    clf_lasso = Lasso(alpha=alpha, normalize=normalize)\n",
    "    clf_lasso.fit(X, y)\n",
    "    return clf_lasso.coef_"
   ]
  },
  {
   "cell_type": "code",
   "execution_count": 7,
   "metadata": {},
   "outputs": [],
   "source": [
    "alphas = [0.001, 0.01, 0.05, 0.1, 0.15, 0.2, 0.25, 0.3]\n",
    "\n",
    "d = []\n",
    "for alpha in alphas:\n",
    "    coeffs = lasso(alpha, X, y, normalize=False)\n",
    "    d.append({'alpha': alpha, \n",
    "              'beta1': coeffs[0], \n",
    "              'beta2': coeffs[1],\n",
    "              'beta3': coeffs[2]})\n",
    "\n",
    "df_lasso = pd.DataFrame(d, columns=['alpha', 'beta1', 'beta2', 'beta3'])"
   ]
  },
  {
   "cell_type": "code",
   "execution_count": 8,
   "metadata": {},
   "outputs": [
    {
     "data": {
      "text/html": [
       "<div>\n",
       "<style>\n",
       "    .dataframe thead tr:only-child th {\n",
       "        text-align: right;\n",
       "    }\n",
       "\n",
       "    .dataframe thead th {\n",
       "        text-align: left;\n",
       "    }\n",
       "\n",
       "    .dataframe tbody tr th {\n",
       "        vertical-align: top;\n",
       "    }\n",
       "</style>\n",
       "<table border=\"1\" class=\"dataframe\">\n",
       "  <thead>\n",
       "    <tr style=\"text-align: right;\">\n",
       "      <th></th>\n",
       "      <th>alpha</th>\n",
       "      <th>beta1</th>\n",
       "      <th>beta2</th>\n",
       "      <th>beta3</th>\n",
       "    </tr>\n",
       "  </thead>\n",
       "  <tbody>\n",
       "    <tr>\n",
       "      <th>0</th>\n",
       "      <td>0.001</td>\n",
       "      <td>9.985918</td>\n",
       "      <td>4.988087</td>\n",
       "      <td>0.089558</td>\n",
       "    </tr>\n",
       "    <tr>\n",
       "      <th>1</th>\n",
       "      <td>0.010</td>\n",
       "      <td>9.859308</td>\n",
       "      <td>4.880433</td>\n",
       "      <td>0.000000</td>\n",
       "    </tr>\n",
       "    <tr>\n",
       "      <th>2</th>\n",
       "      <td>0.050</td>\n",
       "      <td>9.270913</td>\n",
       "      <td>4.352178</td>\n",
       "      <td>0.000000</td>\n",
       "    </tr>\n",
       "    <tr>\n",
       "      <th>3</th>\n",
       "      <td>0.100</td>\n",
       "      <td>8.535424</td>\n",
       "      <td>3.691860</td>\n",
       "      <td>0.000000</td>\n",
       "    </tr>\n",
       "    <tr>\n",
       "      <th>4</th>\n",
       "      <td>0.150</td>\n",
       "      <td>7.799933</td>\n",
       "      <td>3.031542</td>\n",
       "      <td>0.000000</td>\n",
       "    </tr>\n",
       "    <tr>\n",
       "      <th>5</th>\n",
       "      <td>0.200</td>\n",
       "      <td>7.064442</td>\n",
       "      <td>2.371224</td>\n",
       "      <td>0.000000</td>\n",
       "    </tr>\n",
       "    <tr>\n",
       "      <th>6</th>\n",
       "      <td>0.250</td>\n",
       "      <td>6.328925</td>\n",
       "      <td>1.710901</td>\n",
       "      <td>0.000000</td>\n",
       "    </tr>\n",
       "    <tr>\n",
       "      <th>7</th>\n",
       "      <td>0.300</td>\n",
       "      <td>5.593444</td>\n",
       "      <td>1.050584</td>\n",
       "      <td>0.000000</td>\n",
       "    </tr>\n",
       "  </tbody>\n",
       "</table>\n",
       "</div>"
      ],
      "text/plain": [
       "   alpha     beta1     beta2     beta3\n",
       "0  0.001  9.985918  4.988087  0.089558\n",
       "1  0.010  9.859308  4.880433  0.000000\n",
       "2  0.050  9.270913  4.352178  0.000000\n",
       "3  0.100  8.535424  3.691860  0.000000\n",
       "4  0.150  7.799933  3.031542  0.000000\n",
       "5  0.200  7.064442  2.371224  0.000000\n",
       "6  0.250  6.328925  1.710901  0.000000\n",
       "7  0.300  5.593444  1.050584  0.000000"
      ]
     },
     "execution_count": 8,
     "metadata": {},
     "output_type": "execute_result"
    }
   ],
   "source": [
    "df_lasso"
   ]
  },
  {
   "cell_type": "markdown",
   "metadata": {},
   "source": [
    "# Effect of Scaling on Coefficients"
   ]
  },
  {
   "cell_type": "code",
   "execution_count": 9,
   "metadata": {},
   "outputs": [
    {
     "name": "stdout",
     "output_type": "stream",
     "text": [
      "[ 0.00999834  4.99056553  0.08873043  0.         -0.         -0.          0.\n",
      "  0.         -0.         -0.          0.          0.          0.          0.\n",
      "  0.         -0.          0.          0.         -0.          0.        ]\n"
     ]
    }
   ],
   "source": [
    "# First multiply the first column of X by 10\n",
    "X_prime = X.copy()\n",
    "X_prime[:, 0] *= 1000.0\n",
    "\n",
    "coef = lasso(alpha=0.001, X=X_prime, y=y, normalize=False)\n",
    "print(coef)"
   ]
  },
  {
   "cell_type": "code",
   "execution_count": 10,
   "metadata": {},
   "outputs": [
    {
     "name": "stdout",
     "output_type": "stream",
     "text": [
      "[  9.97067509e+03   4.97388236e+00   7.96037207e-02  -0.00000000e+00\n",
      "   0.00000000e+00  -0.00000000e+00   0.00000000e+00   0.00000000e+00\n",
      "  -0.00000000e+00  -0.00000000e+00   0.00000000e+00   0.00000000e+00\n",
      "   0.00000000e+00  -0.00000000e+00   0.00000000e+00  -0.00000000e+00\n",
      "   0.00000000e+00   0.00000000e+00  -0.00000000e+00  -0.00000000e+00]\n"
     ]
    }
   ],
   "source": [
    "# Second divide the first column of X by 10\n",
    "X_prime = X.copy()\n",
    "X_prime[:, 0] /= 1000.0\n",
    "\n",
    "coef = lasso(alpha=0.001, X=X_prime, y=y, normalize=True)\n",
    "print(coef)"
   ]
  },
  {
   "cell_type": "markdown",
   "metadata": {},
   "source": [
    "# Ridge"
   ]
  },
  {
   "cell_type": "code",
   "execution_count": 11,
   "metadata": {},
   "outputs": [],
   "source": [
    "def ridge(alpha, X, y, normalize=True):\n",
    "    clf_ridge = Ridge(alpha, normalize=normalize)\n",
    "    clf_ridge.fit(X, y)\n",
    "    return clf_ridge.coef_    "
   ]
  },
  {
   "cell_type": "code",
   "execution_count": 12,
   "metadata": {},
   "outputs": [],
   "source": [
    "alphas = [0.001, 0.01, 0.05, 0.1, 0.15, 0.2, 0.25, 0.3]\n",
    "\n",
    "d = []\n",
    "for alpha in alphas:\n",
    "    coeffs = ridge(alpha, X, y, normalize=True)\n",
    "    d.append({'alpha': alpha, \n",
    "              'beta1': coeffs[0][0], \n",
    "              'beta2': coeffs[0][1],\n",
    "              'beta3': coeffs[0][2]})\n",
    "\n",
    "df_ridge = pd.DataFrame(d, columns=['alpha', 'beta1', 'beta2', 'beta3'])"
   ]
  },
  {
   "cell_type": "code",
   "execution_count": 13,
   "metadata": {},
   "outputs": [
    {
     "data": {
      "text/html": [
       "<div>\n",
       "<style>\n",
       "    .dataframe thead tr:only-child th {\n",
       "        text-align: right;\n",
       "    }\n",
       "\n",
       "    .dataframe thead th {\n",
       "        text-align: left;\n",
       "    }\n",
       "\n",
       "    .dataframe tbody tr th {\n",
       "        vertical-align: top;\n",
       "    }\n",
       "</style>\n",
       "<table border=\"1\" class=\"dataframe\">\n",
       "  <thead>\n",
       "    <tr style=\"text-align: right;\">\n",
       "      <th></th>\n",
       "      <th>alpha</th>\n",
       "      <th>beta1</th>\n",
       "      <th>beta2</th>\n",
       "      <th>beta3</th>\n",
       "    </tr>\n",
       "  </thead>\n",
       "  <tbody>\n",
       "    <tr>\n",
       "      <th>0</th>\n",
       "      <td>0.001</td>\n",
       "      <td>9.978663</td>\n",
       "      <td>4.990029</td>\n",
       "      <td>0.100191</td>\n",
       "    </tr>\n",
       "    <tr>\n",
       "      <th>1</th>\n",
       "      <td>0.010</td>\n",
       "      <td>9.792871</td>\n",
       "      <td>4.902452</td>\n",
       "      <td>0.102082</td>\n",
       "    </tr>\n",
       "    <tr>\n",
       "      <th>2</th>\n",
       "      <td>0.050</td>\n",
       "      <td>9.080292</td>\n",
       "      <td>4.554690</td>\n",
       "      <td>0.113010</td>\n",
       "    </tr>\n",
       "    <tr>\n",
       "      <th>3</th>\n",
       "      <td>0.100</td>\n",
       "      <td>8.377144</td>\n",
       "      <td>4.194972</td>\n",
       "      <td>0.128938</td>\n",
       "    </tr>\n",
       "    <tr>\n",
       "      <th>4</th>\n",
       "      <td>0.150</td>\n",
       "      <td>7.812616</td>\n",
       "      <td>3.896186</td>\n",
       "      <td>0.144655</td>\n",
       "    </tr>\n",
       "    <tr>\n",
       "      <th>5</th>\n",
       "      <td>0.200</td>\n",
       "      <td>7.343848</td>\n",
       "      <td>3.642635</td>\n",
       "      <td>0.159049</td>\n",
       "    </tr>\n",
       "    <tr>\n",
       "      <th>6</th>\n",
       "      <td>0.250</td>\n",
       "      <td>6.944920</td>\n",
       "      <td>3.423832</td>\n",
       "      <td>0.171794</td>\n",
       "    </tr>\n",
       "    <tr>\n",
       "      <th>7</th>\n",
       "      <td>0.300</td>\n",
       "      <td>6.599038</td>\n",
       "      <td>3.232465</td>\n",
       "      <td>0.182879</td>\n",
       "    </tr>\n",
       "  </tbody>\n",
       "</table>\n",
       "</div>"
      ],
      "text/plain": [
       "   alpha     beta1     beta2     beta3\n",
       "0  0.001  9.978663  4.990029  0.100191\n",
       "1  0.010  9.792871  4.902452  0.102082\n",
       "2  0.050  9.080292  4.554690  0.113010\n",
       "3  0.100  8.377144  4.194972  0.128938\n",
       "4  0.150  7.812616  3.896186  0.144655\n",
       "5  0.200  7.343848  3.642635  0.159049\n",
       "6  0.250  6.944920  3.423832  0.171794\n",
       "7  0.300  6.599038  3.232465  0.182879"
      ]
     },
     "execution_count": 13,
     "metadata": {},
     "output_type": "execute_result"
    }
   ],
   "source": [
    "df_ridge"
   ]
  },
  {
   "cell_type": "markdown",
   "metadata": {},
   "source": [
    "# Effect of Scaling on Coeffs: Ridge"
   ]
  },
  {
   "cell_type": "code",
   "execution_count": 14,
   "metadata": {},
   "outputs": [
    {
     "name": "stdout",
     "output_type": "stream",
     "text": [
      "[[  9.96559000e-03   4.86036655e+00   1.11842971e-01   3.32254763e-02\n",
      "   -2.68443610e-02  -1.54997019e-02   1.52031409e-02   3.08005697e-02\n",
      "   -8.52807569e-03   1.45396409e-02   3.16990407e-02   4.53686243e-03\n",
      "    1.96584559e-03   1.90182252e-02  -7.50298214e-04   5.54301681e-04\n",
      "   -2.60611567e-02   5.48039359e-02  -8.97384952e-03   4.17872419e-02]]\n"
     ]
    }
   ],
   "source": [
    "# First multiply the first column of X by 10\n",
    "X_prime = X.copy()\n",
    "X_prime[:, 0] *= 1000.0\n",
    "\n",
    "coef = ridge(alpha=0.1, X=X_prime, y=y, normalize=False)\n",
    "print(coef)"
   ]
  },
  {
   "cell_type": "code",
   "execution_count": 15,
   "metadata": {},
   "outputs": [
    {
     "name": "stdout",
     "output_type": "stream",
     "text": [
      "[[ 0.22111139  3.34271627 -0.08906815 -1.66148851  4.63391815 -2.19487158\n",
      "   1.06077118  2.84743225 -0.14246962 -1.63373169  3.44601573  2.09349612\n",
      "  -0.94504078 -1.78248421  1.240716   -0.96688591 -0.25974884  0.49257941\n",
      "  -0.55173352 -1.95840359]]\n"
     ]
    }
   ],
   "source": [
    "# Next divide the first column of X by 10\n",
    "X_prime = X.copy()\n",
    "X_prime[:, 0] /= 1000.0\n",
    "\n",
    "coef = ridge(alpha=0.1, X=X_prime, y=y, normalize=False)\n",
    "print(coef)"
   ]
  }
 ],
 "metadata": {
  "kernelspec": {
   "display_name": "env3.6",
   "language": "python",
   "name": "python3"
  },
  "language_info": {
   "codemirror_mode": {
    "name": "ipython",
    "version": 3
   },
   "file_extension": ".py",
   "mimetype": "text/x-python",
   "name": "python",
   "nbconvert_exporter": "python",
   "pygments_lexer": "ipython3",
   "version": "3.6.2"
  }
 },
 "nbformat": 4,
 "nbformat_minor": 2
}
