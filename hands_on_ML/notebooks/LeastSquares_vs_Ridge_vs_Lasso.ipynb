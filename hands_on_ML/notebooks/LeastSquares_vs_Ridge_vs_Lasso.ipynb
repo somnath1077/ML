{
 "cells": [
  {
   "cell_type": "code",
   "execution_count": 1,
   "metadata": {},
   "outputs": [],
   "source": [
    "import pandas as pd\n",
    "import numpy as np\n",
    "\n",
    "from sklearn.preprocessing import scale\n",
    "from sklearn.preprocessing import normalize\n",
    "from sklearn.linear_model import LinearRegression\n",
    "from sklearn.linear_model import Lasso\n",
    "from sklearn.linear_model import Ridge"
   ]
  },
  {
   "cell_type": "markdown",
   "metadata": {},
   "source": [
    "# Preparing Data"
   ]
  },
  {
   "cell_type": "code",
   "execution_count": 2,
   "metadata": {},
   "outputs": [],
   "source": [
    "SAMPLE_SIZE = 50\n",
    "NUM_PREDICTORS = 20\n",
    "NOISE_VAR = 16\n",
    "\n",
    "X = np.random.rand(SAMPLE_SIZE, NUM_PREDICTORS)\n",
    "X_scaled = scale(X, axis=0)\n",
    "X_norm = normalize(X, norm='l2', axis=0)"
   ]
  },
  {
   "cell_type": "code",
   "execution_count": 3,
   "metadata": {},
   "outputs": [],
   "source": [
    "y = (10 * X[:, 0] + 5 * X[:, 1] + 0.1 * X[:, 2] + \n",
    "     np.random.normal(loc=0, scale=NOISE_VAR, size=1)).reshape(SAMPLE_SIZE,1)\n",
    "y_scaled = scale(y, axis=0)\n",
    "y_norm = normalize(y, norm='l2', axis=0)"
   ]
  },
  {
   "cell_type": "markdown",
   "metadata": {},
   "source": [
    "# Least Squares Linear Regression"
   ]
  },
  {
   "cell_type": "code",
   "execution_count": 4,
   "metadata": {},
   "outputs": [
    {
     "data": {
      "text/plain": [
       "LinearRegression(copy_X=True, fit_intercept=True, n_jobs=1, normalize=True)"
      ]
     },
     "execution_count": 4,
     "metadata": {},
     "output_type": "execute_result"
    }
   ],
   "source": [
    "clf = LinearRegression(normalize=True)\n",
    "clf.fit(X, y)"
   ]
  },
  {
   "cell_type": "code",
   "execution_count": 5,
   "metadata": {},
   "outputs": [
    {
     "data": {
      "text/plain": [
       "array([[  1.00000000e+01,   5.00000000e+00,   1.00000000e-01,\n",
       "         -5.79977654e-15,  -3.45388712e-15,  -2.03718869e-15,\n",
       "          5.91394417e-15,  -6.43438348e-15,   1.23031185e-14,\n",
       "          2.29947584e-15,  -4.21159748e-15,  -9.08037536e-15,\n",
       "          1.47448827e-17,   5.66219376e-15,  -1.91097935e-15,\n",
       "         -9.36584937e-15,   2.17089241e-15,   3.67548749e-15,\n",
       "         -8.45752243e-16,  -3.16318466e-15]])"
      ]
     },
     "execution_count": 5,
     "metadata": {},
     "output_type": "execute_result"
    }
   ],
   "source": [
    "clf.coef_"
   ]
  },
  {
   "cell_type": "markdown",
   "metadata": {},
   "source": [
    "# Lasso"
   ]
  },
  {
   "cell_type": "code",
   "execution_count": 6,
   "metadata": {},
   "outputs": [],
   "source": [
    "def lasso(alpha, X, y, normalize=True):\n",
    "    clf_lasso = Lasso(alpha=alpha, normalize=normalize)\n",
    "    clf_lasso.fit(X, y)\n",
    "    return clf_lasso.coef_"
   ]
  },
  {
   "cell_type": "code",
   "execution_count": 7,
   "metadata": {},
   "outputs": [],
   "source": [
    "alphas = [0.001, 0.01, 0.05, 0.1, 0.15, 0.2, 0.25, 0.3]\n",
    "\n",
    "d = []\n",
    "for alpha in alphas:\n",
    "    coeffs = lasso(alpha, X, y, normalize=False)\n",
    "    d.append({'alpha': alpha, \n",
    "              'beta1': coeffs[0], \n",
    "              'beta2': coeffs[1],\n",
    "              'beta3': coeffs[2]})\n",
    "\n",
    "df_lasso = pd.DataFrame(d, columns=['alpha', 'beta1', 'beta2', 'beta3'])"
   ]
  },
  {
   "cell_type": "code",
   "execution_count": 8,
   "metadata": {},
   "outputs": [
    {
     "data": {
      "text/html": [
       "<div>\n",
       "<style>\n",
       "    .dataframe thead tr:only-child th {\n",
       "        text-align: right;\n",
       "    }\n",
       "\n",
       "    .dataframe thead th {\n",
       "        text-align: left;\n",
       "    }\n",
       "\n",
       "    .dataframe tbody tr th {\n",
       "        vertical-align: top;\n",
       "    }\n",
       "</style>\n",
       "<table border=\"1\" class=\"dataframe\">\n",
       "  <thead>\n",
       "    <tr style=\"text-align: right;\">\n",
       "      <th></th>\n",
       "      <th>alpha</th>\n",
       "      <th>beta1</th>\n",
       "      <th>beta2</th>\n",
       "      <th>beta3</th>\n",
       "    </tr>\n",
       "  </thead>\n",
       "  <tbody>\n",
       "    <tr>\n",
       "      <th>0</th>\n",
       "      <td>0.001</td>\n",
       "      <td>9.985616</td>\n",
       "      <td>4.987368</td>\n",
       "      <td>0.091867</td>\n",
       "    </tr>\n",
       "    <tr>\n",
       "      <th>1</th>\n",
       "      <td>0.010</td>\n",
       "      <td>9.855772</td>\n",
       "      <td>4.873443</td>\n",
       "      <td>0.018726</td>\n",
       "    </tr>\n",
       "    <tr>\n",
       "      <th>2</th>\n",
       "      <td>0.050</td>\n",
       "      <td>9.266324</td>\n",
       "      <td>4.295353</td>\n",
       "      <td>0.000000</td>\n",
       "    </tr>\n",
       "    <tr>\n",
       "      <th>3</th>\n",
       "      <td>0.100</td>\n",
       "      <td>8.528566</td>\n",
       "      <td>3.567257</td>\n",
       "      <td>0.000000</td>\n",
       "    </tr>\n",
       "    <tr>\n",
       "      <th>4</th>\n",
       "      <td>0.150</td>\n",
       "      <td>7.790808</td>\n",
       "      <td>2.839160</td>\n",
       "      <td>0.000000</td>\n",
       "    </tr>\n",
       "    <tr>\n",
       "      <th>5</th>\n",
       "      <td>0.200</td>\n",
       "      <td>7.053050</td>\n",
       "      <td>2.111064</td>\n",
       "      <td>0.000000</td>\n",
       "    </tr>\n",
       "    <tr>\n",
       "      <th>6</th>\n",
       "      <td>0.250</td>\n",
       "      <td>6.315291</td>\n",
       "      <td>1.382968</td>\n",
       "      <td>0.000000</td>\n",
       "    </tr>\n",
       "    <tr>\n",
       "      <th>7</th>\n",
       "      <td>0.300</td>\n",
       "      <td>5.577531</td>\n",
       "      <td>0.654871</td>\n",
       "      <td>0.000000</td>\n",
       "    </tr>\n",
       "  </tbody>\n",
       "</table>\n",
       "</div>"
      ],
      "text/plain": [
       "   alpha     beta1     beta2     beta3\n",
       "0  0.001  9.985616  4.987368  0.091867\n",
       "1  0.010  9.855772  4.873443  0.018726\n",
       "2  0.050  9.266324  4.295353  0.000000\n",
       "3  0.100  8.528566  3.567257  0.000000\n",
       "4  0.150  7.790808  2.839160  0.000000\n",
       "5  0.200  7.053050  2.111064  0.000000\n",
       "6  0.250  6.315291  1.382968  0.000000\n",
       "7  0.300  5.577531  0.654871  0.000000"
      ]
     },
     "execution_count": 8,
     "metadata": {},
     "output_type": "execute_result"
    }
   ],
   "source": [
    "df_lasso"
   ]
  },
  {
   "cell_type": "markdown",
   "metadata": {},
   "source": [
    "# Effect of Scaling on Coefficients"
   ]
  },
  {
   "cell_type": "code",
   "execution_count": 9,
   "metadata": {},
   "outputs": [
    {
     "name": "stdout",
     "output_type": "stream",
     "text": [
      "[ 0.00999924  4.98857766  0.09141308 -0.          0.          0.         -0.\n",
      " -0.         -0.          0.          0.         -0.          0.         -0.\n",
      "  0.          0.         -0.          0.          0.          0.        ]\n"
     ]
    }
   ],
   "source": [
    "# First divide the first column of X by 10\n",
    "X_prime = X.copy()\n",
    "X_prime[:, 0] *= 1000.0\n",
    "\n",
    "coef = lasso(alpha=0.001, X=X_prime, y=y, normalize=False)\n",
    "print(coef)"
   ]
  },
  {
   "cell_type": "code",
   "execution_count": 10,
   "metadata": {},
   "outputs": [
    {
     "name": "stdout",
     "output_type": "stream",
     "text": [
      "[  9.97238866e+03   4.97612242e+00   8.17459949e-02  -0.00000000e+00\n",
      "   0.00000000e+00  -0.00000000e+00   0.00000000e+00  -0.00000000e+00\n",
      "  -0.00000000e+00   0.00000000e+00   0.00000000e+00  -0.00000000e+00\n",
      "   0.00000000e+00  -0.00000000e+00   0.00000000e+00   0.00000000e+00\n",
      "  -0.00000000e+00   0.00000000e+00   0.00000000e+00   0.00000000e+00]\n"
     ]
    }
   ],
   "source": [
    "# First divide the first column of X by 10\n",
    "X_prime = X.copy()\n",
    "X_prime[:, 0] /= 1000.0\n",
    "\n",
    "coef = lasso(alpha=0.001, X=X_prime, y=y, normalize=True)\n",
    "print(coef)"
   ]
  },
  {
   "cell_type": "markdown",
   "metadata": {},
   "source": [
    "# Ridge"
   ]
  },
  {
   "cell_type": "code",
   "execution_count": 11,
   "metadata": {},
   "outputs": [],
   "source": [
    "def ridge(alpha, X, y):\n",
    "    clf_ridge = Ridge(alpha, normalize=True)\n",
    "    clf_ridge.fit(X, y)\n",
    "    return clf_ridge.coef_    "
   ]
  },
  {
   "cell_type": "code",
   "execution_count": 12,
   "metadata": {},
   "outputs": [],
   "source": [
    "alphas = [0.001, 0.01, 0.05, 0.1, 0.15, 0.2, 0.25, 0.3]\n",
    "\n",
    "d = []\n",
    "for alpha in alphas:\n",
    "    coeffs = ridge(alpha, X, y)\n",
    "    d.append({'alpha': alpha, \n",
    "              'beta1': coeffs[0][0], \n",
    "              'beta2': coeffs[0][1],\n",
    "              'beta3': coeffs[0][2]})\n",
    "\n",
    "df_ridge = pd.DataFrame(d, columns=['alpha', 'beta1', 'beta2', 'beta3'])"
   ]
  },
  {
   "cell_type": "code",
   "execution_count": 13,
   "metadata": {},
   "outputs": [
    {
     "data": {
      "text/html": [
       "<div>\n",
       "<style>\n",
       "    .dataframe thead tr:only-child th {\n",
       "        text-align: right;\n",
       "    }\n",
       "\n",
       "    .dataframe thead th {\n",
       "        text-align: left;\n",
       "    }\n",
       "\n",
       "    .dataframe tbody tr th {\n",
       "        vertical-align: top;\n",
       "    }\n",
       "</style>\n",
       "<table border=\"1\" class=\"dataframe\">\n",
       "  <thead>\n",
       "    <tr style=\"text-align: right;\">\n",
       "      <th></th>\n",
       "      <th>alpha</th>\n",
       "      <th>beta1</th>\n",
       "      <th>beta2</th>\n",
       "      <th>beta3</th>\n",
       "    </tr>\n",
       "  </thead>\n",
       "  <tbody>\n",
       "    <tr>\n",
       "      <th>0</th>\n",
       "      <td>0.001</td>\n",
       "      <td>9.985133</td>\n",
       "      <td>4.992402</td>\n",
       "      <td>0.099306</td>\n",
       "    </tr>\n",
       "    <tr>\n",
       "      <th>1</th>\n",
       "      <td>0.010</td>\n",
       "      <td>9.854219</td>\n",
       "      <td>4.925035</td>\n",
       "      <td>0.093991</td>\n",
       "    </tr>\n",
       "    <tr>\n",
       "      <th>2</th>\n",
       "      <td>0.050</td>\n",
       "      <td>9.326979</td>\n",
       "      <td>4.646817</td>\n",
       "      <td>0.084603</td>\n",
       "    </tr>\n",
       "    <tr>\n",
       "      <th>3</th>\n",
       "      <td>0.100</td>\n",
       "      <td>8.765733</td>\n",
       "      <td>4.342618</td>\n",
       "      <td>0.089472</td>\n",
       "    </tr>\n",
       "    <tr>\n",
       "      <th>4</th>\n",
       "      <td>0.150</td>\n",
       "      <td>8.284841</td>\n",
       "      <td>4.078715</td>\n",
       "      <td>0.100918</td>\n",
       "    </tr>\n",
       "    <tr>\n",
       "      <th>5</th>\n",
       "      <td>0.200</td>\n",
       "      <td>7.865175</td>\n",
       "      <td>3.847691</td>\n",
       "      <td>0.113990</td>\n",
       "    </tr>\n",
       "    <tr>\n",
       "      <th>6</th>\n",
       "      <td>0.250</td>\n",
       "      <td>7.493941</td>\n",
       "      <td>3.643672</td>\n",
       "      <td>0.126779</td>\n",
       "    </tr>\n",
       "    <tr>\n",
       "      <th>7</th>\n",
       "      <td>0.300</td>\n",
       "      <td>7.162053</td>\n",
       "      <td>3.462062</td>\n",
       "      <td>0.138567</td>\n",
       "    </tr>\n",
       "  </tbody>\n",
       "</table>\n",
       "</div>"
      ],
      "text/plain": [
       "   alpha     beta1     beta2     beta3\n",
       "0  0.001  9.985133  4.992402  0.099306\n",
       "1  0.010  9.854219  4.925035  0.093991\n",
       "2  0.050  9.326979  4.646817  0.084603\n",
       "3  0.100  8.765733  4.342618  0.089472\n",
       "4  0.150  8.284841  4.078715  0.100918\n",
       "5  0.200  7.865175  3.847691  0.113990\n",
       "6  0.250  7.493941  3.643672  0.126779\n",
       "7  0.300  7.162053  3.462062  0.138567"
      ]
     },
     "execution_count": 13,
     "metadata": {},
     "output_type": "execute_result"
    }
   ],
   "source": [
    "df_ridge"
   ]
  }
 ],
 "metadata": {
  "kernelspec": {
   "display_name": "env3.6",
   "language": "python",
   "name": "python3"
  },
  "language_info": {
   "codemirror_mode": {
    "name": "ipython",
    "version": 3
   },
   "file_extension": ".py",
   "mimetype": "text/x-python",
   "name": "python",
   "nbconvert_exporter": "python",
   "pygments_lexer": "ipython3",
   "version": "3.6.2"
  }
 },
 "nbformat": 4,
 "nbformat_minor": 2
}
