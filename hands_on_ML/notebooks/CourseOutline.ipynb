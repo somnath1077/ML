{
 "cells": [
  {
   "cell_type": "markdown",
   "metadata": {
    "slideshow": {
     "slide_type": "slide"
    }
   },
   "source": [
    "## Outline of the Hand-on ML ToM\n",
    "\n",
    "### Fundamentals\n",
    "1. The Machine Learning Landscape (comment: probably the most lucid ML explanation I've ever read)\n",
    "2. End-to-End Machine Learning Project\n",
    "3. Classification\n",
    "4. Training Models\n",
    "5. Support Vector Machines\n",
    "6. Decision Trees\n",
    "7. Ensemble Learning and Random Forests\n",
    "8. Dimensionality Reduction\n",
    "### Neural Networks and Deep Learning\n",
    "9. Up and Running with TensorFlow\n",
    "10. Introduction to Artificial Neural Networks\n",
    "11. Training Deep Neural Nets\n",
    "12. Distributing TensorFlow Across Devices and Servers\n",
    "13. Convolutional Neural Networks\n",
    "14. Recurrent Neural Networks\n",
    "15. Autoencoders\n",
    "16. Reinforcement Learning\n",
    "\n",
    "### Online Material\n",
    "https://github.com/ageron/handson-ml\n",
    "\n",
    "### Selected Theory from Andrew NG's Stanford CS229 Course\n",
    "\n",
    "This could be done on an on-demand basis. "
   ]
  },
  {
   "cell_type": "code",
   "execution_count": null,
   "metadata": {
    "collapsed": true,
    "slideshow": {
     "slide_type": "slide"
    }
   },
   "outputs": [],
   "source": []
  }
 ],
 "metadata": {
  "celltoolbar": "Slideshow",
  "kernelspec": {
   "display_name": "Python 3",
   "language": "python",
   "name": "python3"
  },
  "language_info": {
   "codemirror_mode": {
    "name": "ipython",
    "version": 3
   },
   "file_extension": ".py",
   "mimetype": "text/x-python",
   "name": "python",
   "nbconvert_exporter": "python",
   "pygments_lexer": "ipython3",
   "version": "3.6.2"
  }
 },
 "nbformat": 4,
 "nbformat_minor": 2
}
